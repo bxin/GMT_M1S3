{
 "cells": [
  {
   "cell_type": "markdown",
   "id": "63f9a57c",
   "metadata": {},
   "source": [
    "### Data analysis of Section 7 data.\n",
    "\n",
    "1. Check all surface maps without thermal compensation (250107)\n",
    "1. group the surface maps ...., calculate averages and sub-averages,... decide on the sampling parameters to use for all future tests\n"
   ]
  },
  {
   "cell_type": "code",
   "execution_count": null,
   "id": "52cd0f91",
   "metadata": {},
   "outputs": [],
   "source": []
  }
 ],
 "metadata": {
  "kernelspec": {
   "display_name": "Python 3 (ipykernel)",
   "language": "python",
   "name": "python3"
  },
  "language_info": {
   "codemirror_mode": {
    "name": "ipython",
    "version": 3
   },
   "file_extension": ".py",
   "mimetype": "text/x-python",
   "name": "python",
   "nbconvert_exporter": "python",
   "pygments_lexer": "ipython3",
   "version": "3.11.5"
  }
 },
 "nbformat": 4,
 "nbformat_minor": 5
}
