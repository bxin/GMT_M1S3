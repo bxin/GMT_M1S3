{
 "cells": [
  {
   "cell_type": "code",
   "execution_count": 1,
   "id": "80b3f4e1",
   "metadata": {},
   "outputs": [
    {
     "name": "stdout",
     "output_type": "stream",
     "text": [
      "Intel MKL WARNING: Support of Intel(R) Streaming SIMD Extensions 4.2 (Intel(R) SSE4.2) enabled only processors has been deprecated. Intel oneAPI Math Kernel Library 2025.0 will require Intel(R) Advanced Vector Extensions (Intel(R) AVX) instructions.\n",
      "Intel MKL WARNING: Support of Intel(R) Streaming SIMD Extensions 4.2 (Intel(R) SSE4.2) enabled only processors has been deprecated. Intel oneAPI Math Kernel Library 2025.0 will require Intel(R) Advanced Vector Extensions (Intel(R) AVX) instructions.\n",
      "## bending modes & influence matrices etc from Buddy #####################\n",
      "ML actuators =  165 165\n",
      "Afn =  (6991, 165)\n",
      "fv =  (165, 165)\n",
      "U matrix (6991, 165)\n",
      "N node =  6991\n",
      "## bending modes & influence matrices etc from Trupti #####################\n",
      "N actuators =  170\n",
      "/Users/bxin/Library/CloudStorage/OneDrive-SharedLibraries-GMTOCorp/M1S Portal - Documents/influnce_matrix_files/OA_influence_matrices_all/OA_surface_normal_165SA_09Jan2025/\n",
      "Afz =  (27547, 165)\n",
      "Afx =  (27547, 165)\n",
      "Afy =  (27547, 165)\n",
      "U matrix (27547, 165)\n",
      "S matrix (165, 165)\n",
      "V matrix (165, 165)\n",
      "N node =  28789\n",
      "number of Mirror Front surface TCs =  48\n",
      "number of Mirror Back surface TCs =  48\n",
      "number of Mirror Middle TCs =  16\n"
     ]
    }
   ],
   "source": [
    "import numpy as np\n",
    "import pandas as pd\n",
    "import scipy.io\n",
    "\n",
    "import matplotlib.pyplot as plt\n",
    "import sys\n",
    "sys.path.insert(0, '../')\n",
    "from M1S_tools import *\n",
    "import glob"
   ]
  },
  {
   "cell_type": "code",
   "execution_count": 5,
   "id": "826bb5cf",
   "metadata": {},
   "outputs": [],
   "source": [
    "dateID = '250116'"
   ]
  },
  {
   "cell_type": "code",
   "execution_count": 15,
   "id": "d0b4a22e",
   "metadata": {},
   "outputs": [
    {
     "name": "stdout",
     "output_type": "stream",
     "text": [
      "/Users/bxin/GMT_docs/1_M1/Analysis/ml_data/data/Optical Data//Sec 9/Quick Look/250116 GMT3 set1 10.2 5-7 bm4+.h5 gmtMorph170614.h5: Thu Jan 16 14:53:25 2025 \n",
      "['/Users/bxin/GMT_docs/1_M1/Analysis/ml_data/data/Optical Data//Sec 9/Quick Look/250116 GMT3 set1 10.2 5-7 bm4+.h5 gmtMorph170614.h5']\n"
     ]
    },
    {
     "ename": "TypeError",
     "evalue": "'Axes' object is not subscriptable",
     "output_type": "error",
     "traceback": [
      "\u001b[0;31m---------------------------------------------------------------------------\u001b[0m",
      "\u001b[0;31mTypeError\u001b[0m                                 Traceback (most recent call last)",
      "Cell \u001b[0;32mIn[15], line 19\u001b[0m\n\u001b[1;32m     16\u001b[0m \u001b[38;5;28mprint\u001b[39m(fileset)\n\u001b[1;32m     17\u001b[0m m1rms \u001b[38;5;241m=\u001b[39m np\u001b[38;5;241m.\u001b[39mstd(m1s[\u001b[38;5;241m~\u001b[39mnp\u001b[38;5;241m.\u001b[39misnan(m1s)])\u001b[38;5;241m*\u001b[39m\u001b[38;5;241m1000\u001b[39m \u001b[38;5;66;03m#convert into nm\u001b[39;00m\n\u001b[0;32m---> 19\u001b[0m img \u001b[38;5;241m=\u001b[39m ax[irow][icol]\u001b[38;5;241m.\u001b[39mimshow(m1s, origin\u001b[38;5;241m=\u001b[39m\u001b[38;5;124m'\u001b[39m\u001b[38;5;124mlowerleft\u001b[39m\u001b[38;5;124m'\u001b[39m)\n\u001b[1;32m     20\u001b[0m fig\u001b[38;5;241m.\u001b[39mcolorbar(img, ax\u001b[38;5;241m=\u001b[39max[irow][icol])\n\u001b[1;32m     21\u001b[0m ax[irow][icol]\u001b[38;5;241m.\u001b[39mset_title(\u001b[38;5;124m'\u001b[39m\u001b[38;5;124mbend\u001b[39m\u001b[38;5;132;01m%d\u001b[39;00m\u001b[38;5;124m,\u001b[39m\u001b[38;5;132;01m%s\u001b[39;00m\u001b[38;5;124m, RMS_M1=\u001b[39m\u001b[38;5;132;01m%.0f\u001b[39;00m\u001b[38;5;124m nm\u001b[39m\u001b[38;5;124m'\u001b[39m\u001b[38;5;241m%\u001b[39m(modeID, bend[\u001b[38;5;241m0\u001b[39m], m1rms))\n",
      "\u001b[0;31mTypeError\u001b[0m: 'Axes' object is not subscriptable"
     ]
    },
    {
     "data": {
      "image/png": "[encoded data removed]",
      "text/plain": [
       "<Figure size 2000x500 with 4 Axes>"
      ]
     },
     "metadata": {},
     "output_type": "display_data"
    }
   ],
   "source": [
    "startmode = 4\n",
    "endmode = 4\n",
    "nmode = endmode - startmode+1\n",
    "fig, ax = plt.subplots(nmode,4,figsize=(20,5*nmode))\n",
    "i = 0\n",
    "for modeID in range(startmode,endmode+1):\n",
    "    signedBend = ['set1*%d+'%modeID, 'set2*%d-'%modeID, 'set1*%d+'%modeID, 'set2*%d-'%modeID]\n",
    "    for bend in signedBend:\n",
    "        irow = np.int8(i/4)\n",
    "        icol = np.mod(i,4)\n",
    "        i += 1\n",
    "        \n",
    "        #print('%s/Sec 9/%s*set*comp.h5'%(ml_data_dir,dateID))\n",
    "        fileset = sorted(glob.glob('%s/Sec 9/Quick Look/%s*%s*.h5'%(ml_data_dir,dateID, bend)))\n",
    "        m1s,centerRow1,centerCol1,pixelSize1, ts = readH5Map(fileset)\n",
    "        print(fileset)\n",
    "        m1rms = np.std(m1s[~np.isnan(m1s)])*1000 #convert into nm\n",
    "\n",
    "        img = ax[irow][icol].imshow(m1s, origin='lowerleft')\n",
    "        fig.colorbar(img, ax=ax[irow][icol])\n",
    "        ax[irow][icol].set_title('bend%d,%s, RMS_M1=%.0f nm'%(modeID, bend[0], m1rms))"
   ]
  },
  {
   "cell_type": "code",
   "execution_count": 3,
   "id": "a7e34fa5",
   "metadata": {},
   "outputs": [
    {
     "data": {
      "text/plain": [
       "['set1*4+', 'set2*4-', 'set1*4+', 'set2*4-']"
      ]
     },
     "execution_count": 3,
     "metadata": {},
     "output_type": "execute_result"
    }
   ],
   "source": [
    "signedBend"
   ]
  },
  {
   "cell_type": "code",
   "execution_count": null,
   "id": "db0eaaca",
   "metadata": {},
   "outputs": [],
   "source": [
    "\n",
    "        print('%s bending mode %s ------ irow = %d, icol = %d, -----------------------------'%(\n",
    "            testID, modeID, irow, icol))\n",
    "\n",
    "        \n",
    "\n"
   ]
  }
 ],
 "metadata": {
  "kernelspec": {
   "display_name": "Python 3 (ipykernel)",
   "language": "python",
   "name": "python3"
  },
  "language_info": {
   "codemirror_mode": {
    "name": "ipython",
    "version": 3
   },
   "file_extension": ".py",
   "mimetype": "text/x-python",
   "name": "python",
   "nbconvert_exporter": "python",
   "pygments_lexer": "ipython3",
   "version": "3.11.5"
  }
 },
 "nbformat": 4,
 "nbformat_minor": 5
}
