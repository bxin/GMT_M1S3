{
 "cells": [
  {
   "cell_type": "markdown",
   "id": "9e3d4afe",
   "metadata": {},
   "source": [
    "### Data analysis of Section 8 data.\n",
    "\n",
    "1. reference LSST notebook,\n",
    "2. mostly reading maps and subtracting to see the differences."
   ]
  },
  {
   "cell_type": "code",
   "execution_count": null,
   "id": "cc9b18a0",
   "metadata": {},
   "outputs": [],
   "source": []
  }
 ],
 "metadata": {
  "kernelspec": {
   "display_name": "Python 3 (ipykernel)",
   "language": "python",
   "name": "python3"
  },
  "language_info": {
   "codemirror_mode": {
    "name": "ipython",
    "version": 3
   },
   "file_extension": ".py",
   "mimetype": "text/x-python",
   "name": "python",
   "nbconvert_exporter": "python",
   "pygments_lexer": "ipython3",
   "version": "3.11.5"
  }
 },
 "nbformat": 4,
 "nbformat_minor": 5
}
