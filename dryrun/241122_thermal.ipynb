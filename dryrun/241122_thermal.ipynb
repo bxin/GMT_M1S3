{
 "cells": [
  {
   "cell_type": "code",
   "execution_count": 1,
   "id": "040012e2",
   "metadata": {},
   "outputs": [
    {
     "name": "stdout",
     "output_type": "stream",
     "text": [
      "Intel MKL WARNING: Support of Intel(R) Streaming SIMD Extensions 4.2 (Intel(R) SSE4.2) enabled only processors has been deprecated. Intel oneAPI Math Kernel Library 2025.0 will require Intel(R) Advanced Vector Extensions (Intel(R) AVX) instructions.\n",
      "Intel MKL WARNING: Support of Intel(R) Streaming SIMD Extensions 4.2 (Intel(R) SSE4.2) enabled only processors has been deprecated. Intel oneAPI Math Kernel Library 2025.0 will require Intel(R) Advanced Vector Extensions (Intel(R) AVX) instructions.\n",
      "## bending modes & influence matrices etc from Buddy #####################\n",
      "ML actuators =  165 165\n",
      "Afn =  (6991, 165)\n",
      "fv =  (165, 165)\n",
      "U matrix (6991, 165)\n",
      "N node =  6991\n",
      "## bending modes & influence matrices etc from Trupti #####################\n",
      "N actuators =  170\n",
      "Afz =  (27685, 170)\n",
      "Afx =  (27685, 170)\n",
      "Afy =  (27685, 170)\n",
      "U matrix (27685, 170)\n",
      "V matrix (170, 170)\n",
      "S matrix (170, 170)\n",
      "N node =  27685\n"
     ]
    },
    {
     "data": {
      "text/plain": [
       "<Figure size 640x480 with 0 Axes>"
      ]
     },
     "metadata": {},
     "output_type": "display_data"
    }
   ],
   "source": [
    "import numpy as np\n",
    "import pandas as pd\n",
    "import scipy.io\n",
    "\n",
    "import matplotlib.pyplot as plt\n",
    "\n",
    "from M1S_tools import *\n",
    "\n",
    "plt.jet()\n",
    "\n",
    "%matplotlib inline"
   ]
  },
  {
   "cell_type": "code",
   "execution_count": 2,
   "id": "494261de",
   "metadata": {},
   "outputs": [
    {
     "name": "stdout",
     "output_type": "stream",
     "text": [
      "300\n"
     ]
    }
   ],
   "source": [
    "start_time = 1732213163\n",
    "end_time = 1732213463\n",
    "duration = end_time - start_time\n",
    "print(duration)"
   ]
  },
  {
   "cell_type": "code",
   "execution_count": 5,
   "id": "597eb224",
   "metadata": {},
   "outputs": [
    {
     "name": "stdout",
     "output_type": "stream",
     "text": [
      "m1_s1_thermal_ctrl/s/thermal_state/value\n",
      "2024-11-21 11:19:23\n",
      "INIT\n",
      "INIT\n",
      "INIT\n",
      "INIT\n",
      "INIT\n",
      "INIT\n",
      "INIT\n",
      "INIT\n",
      "INIT\n",
      "INIT\n",
      "INIT\n",
      "INIT\n",
      "INIT\n",
      "INIT\n",
      "INIT\n",
      "INIT\n",
      "INIT\n",
      "INIT\n",
      "INIT\n",
      "INIT\n",
      "m1_s1_thermal_ctrl/s/ahu_state/value\n",
      "2024-11-21 11:19:23\n",
      "['IDLE', 'IDLE', 'IDLE', 'IDLE', 'IDLE', 'IDLE', 'IDLE', 'IDLE', 'IDLE', 'IDLE', 'IDLE', 'IDLE', 'IDLE', 'IDLE']\n",
      "['IDLE', 'IDLE', 'IDLE', 'IDLE', 'IDLE', 'IDLE', 'IDLE', 'IDLE', 'IDLE', 'IDLE', 'IDLE', 'IDLE', 'IDLE', 'IDLE']\n",
      "['IDLE', 'IDLE', 'IDLE', 'IDLE', 'IDLE', 'IDLE', 'IDLE', 'IDLE', 'IDLE', 'IDLE', 'IDLE', 'IDLE', 'IDLE', 'IDLE']\n",
      "['IDLE', 'IDLE', 'IDLE', 'IDLE', 'IDLE', 'IDLE', 'IDLE', 'IDLE', 'IDLE', 'IDLE', 'IDLE', 'IDLE', 'IDLE', 'IDLE']\n",
      "['IDLE', 'IDLE', 'IDLE', 'IDLE', 'IDLE', 'IDLE', 'IDLE', 'IDLE', 'IDLE', 'IDLE', 'IDLE', 'IDLE', 'IDLE', 'IDLE']\n",
      "['IDLE', 'IDLE', 'IDLE', 'IDLE', 'IDLE', 'IDLE', 'IDLE', 'IDLE', 'IDLE', 'IDLE', 'IDLE', 'IDLE', 'IDLE', 'IDLE']\n",
      "['IDLE', 'IDLE', 'IDLE', 'IDLE', 'IDLE', 'IDLE', 'IDLE', 'IDLE', 'IDLE', 'IDLE', 'IDLE', 'IDLE', 'IDLE', 'IDLE']\n",
      "['IDLE', 'IDLE', 'IDLE', 'IDLE', 'IDLE', 'IDLE', 'IDLE', 'IDLE', 'IDLE', 'IDLE', 'IDLE', 'IDLE', 'IDLE', 'IDLE']\n",
      "['IDLE', 'IDLE', 'IDLE', 'IDLE', 'IDLE', 'IDLE', 'IDLE', 'IDLE', 'IDLE', 'IDLE', 'IDLE', 'IDLE', 'IDLE', 'IDLE']\n",
      "['IDLE', 'IDLE', 'IDLE', 'IDLE', 'IDLE', 'IDLE', 'IDLE', 'IDLE', 'IDLE', 'IDLE', 'IDLE', 'IDLE', 'IDLE', 'IDLE']\n",
      "['IDLE', 'IDLE', 'IDLE', 'IDLE', 'IDLE', 'IDLE', 'IDLE', 'IDLE', 'IDLE', 'IDLE', 'IDLE', 'IDLE', 'IDLE', 'IDLE']\n",
      "['IDLE', 'IDLE', 'IDLE', 'IDLE', 'IDLE', 'IDLE', 'IDLE', 'IDLE', 'IDLE', 'IDLE', 'IDLE', 'IDLE', 'IDLE', 'IDLE']\n",
      "['IDLE', 'IDLE', 'IDLE', 'IDLE', 'IDLE', 'IDLE', 'IDLE', 'IDLE', 'IDLE', 'IDLE', 'IDLE', 'IDLE', 'IDLE', 'IDLE']\n",
      "['IDLE', 'IDLE', 'IDLE', 'IDLE', 'IDLE', 'IDLE', 'IDLE', 'IDLE', 'IDLE', 'IDLE', 'IDLE', 'IDLE', 'IDLE', 'IDLE']\n",
      "['IDLE', 'IDLE', 'IDLE', 'IDLE', 'IDLE', 'IDLE', 'IDLE', 'IDLE', 'IDLE', 'IDLE', 'IDLE', 'IDLE', 'IDLE', 'IDLE']\n",
      "['IDLE', 'IDLE', 'IDLE', 'IDLE', 'IDLE', 'IDLE', 'IDLE', 'IDLE', 'IDLE', 'IDLE', 'IDLE', 'IDLE', 'IDLE', 'IDLE']\n",
      "['IDLE', 'IDLE', 'IDLE', 'IDLE', 'IDLE', 'IDLE', 'IDLE', 'IDLE', 'IDLE', 'IDLE', 'IDLE', 'IDLE', 'IDLE', 'IDLE']\n",
      "['IDLE', 'IDLE', 'IDLE', 'IDLE', 'IDLE', 'IDLE', 'IDLE', 'IDLE', 'IDLE', 'IDLE', 'IDLE', 'IDLE', 'IDLE', 'IDLE']\n",
      "['IDLE', 'IDLE', 'IDLE', 'IDLE', 'IDLE', 'IDLE', 'IDLE', 'IDLE', 'IDLE', 'IDLE', 'IDLE', 'IDLE', 'IDLE', 'IDLE']\n",
      "['IDLE', 'IDLE', 'IDLE', 'IDLE', 'IDLE', 'IDLE', 'IDLE', 'IDLE', 'IDLE', 'IDLE', 'IDLE', 'IDLE', 'IDLE', 'IDLE']\n",
      "m1_s1_thermal_ctrl/s/co2_state/value\n",
      "2024-11-21 11:19:23\n",
      "IDLE\n",
      "IDLE\n",
      "IDLE\n",
      "IDLE\n",
      "IDLE\n",
      "IDLE\n",
      "IDLE\n",
      "IDLE\n",
      "IDLE\n",
      "IDLE\n",
      "IDLE\n",
      "IDLE\n",
      "IDLE\n",
      "IDLE\n",
      "IDLE\n",
      "IDLE\n",
      "IDLE\n",
      "IDLE\n",
      "IDLE\n",
      "IDLE\n"
     ]
    }
   ],
   "source": [
    "printDBVar(start_time,'m1_s1_thermal_ctrl/s/thermal_state/value')\n",
    "printDBVar(start_time,'m1_s1_thermal_ctrl/s/ahu_state/value')\n",
    "printDBVar(start_time,'m1_s1_thermal_ctrl/s/co2_state/value')"
   ]
  },
  {
   "cell_type": "code",
   "execution_count": 28,
   "id": "70f3e230",
   "metadata": {},
   "outputs": [
    {
     "name": "stdout",
     "output_type": "stream",
     "text": [
      "m1_s1_thermal_ctrl/i/tc_unique_id/value\n",
      "2024-11-21 11:19:23\n",
      "[421513373, 421520647, 421520675, 421518412, 421520661, 421513366]\n",
      "m1_s1_thermal_ctrl/i/tc_state/value\n",
      "2024-11-21 11:19:23\n",
      "b'\\x02\\x02\\x02\\x02\\x02\\x02'\n",
      "m1_s1_thermal_ctrl/i/tc_temperature/value\n",
      "2024-11-21 11:19:23\n",
      "[[0, 294.5160843664105, 294.23315949485504, 294.03283799650507, 294.50182873289026, 293.9639013468828, 293.96140333371636, 293.647854437199, 294.41987420449374, 293.9338386925505, 293.8221712670826, 293.5474881250056, 293.62093249387596, 294.14833072175065, 293.8391081763958, 293.8335371876031, 293.58879571149225, 293.6566118845754, -58044967.10666682, -58044967.10666682, -58044967.10666682, -58044967.10666682, -58044967.10666682, -58044967.10666682, -58044967.10666682, -58044967.10666682, -58044967.10666682, -58044967.10666682, -58044967.10666682, -58044967.10666682, -58044967.10666682, 294.3675872743384], [0, 294.34204211553936, 293.9647307723905, 294.27894685725477, 293.9367683295134, 294.61880265151035, 294.3313848841365, 294.10334126513436, 294.26057739351705, 293.8895783097412, 294.5236114543824, 294.0443759670798, 294.47511628074346, 294.0366754368159, 294.2314043377834, 293.9269975720805, 293.85183975080815, 294.3979404250271, 293.9556701503967, -58105520.91142756, -58105520.91142756, -58105520.91142756, -58105520.91142756, -58105520.91142756, -58105520.91142756, -58105520.91142756, -58105520.91142756, -58105520.91142756, -58105520.91142756, -58105520.91142756, -58105520.91142756, 294.3675872743384], [0, 294.19808771193715, 294.03175194299735, 293.94269841330686, 294.5509219207724, 294.07076171604564, 294.5209921248047, 294.0809709839813, 294.71541215122323, 294.15824492044015, 294.614449984293, 294.0977939870203, 294.4717970119254, 294.1442110967397, 294.040388354504, 294.62725476109756, 294.1071469820922, 294.52949052818144, 294.08106449382547, 294.3273371974227, 294.20554771806627, 293.9936610342954, -58281395.21337903, -58281395.21337903, -58281395.21337903, -58281395.21337903, -58281395.21337903, -58281395.21337903, -58281395.21337903, -58281395.21337903, -58281395.21337903, 294.3675872743384], [0, 294.65590887232935, 294.3507998107876, 294.104522070951, 294.6795352850879, 294.1395907355462, 294.38628821832447, 293.9793248102906, 294.57956514388025, 294.0707090918525, 294.11377638483987, -830624.5817305029, 293.88026817203195, 294.275029314274, 293.950566047051, 293.79237558318357, 293.7218603118557, 293.7292602322776, -58030148.32421057, -58030148.32421057, -58030148.32421057, -58030148.32421057, -58030148.32421057, -58030148.32421057, -58030148.32421057, -58030148.32421057, -58030148.32421057, -58030148.32421057, -58030148.32421057, -58030148.32421057, -58030148.32421057, 294.3675872743384], [0, 294.466484047979, 294.02627468648586, 294.58842429283436, -66.67703333660262, 294.69153035586675, 294.3772207876979, 294.14895449147076, 294.1938156846192, 293.88957883724254, 294.46150402356994, 293.9912549708826, 294.52825286495863, 294.0344508392612, 293.79638222228925, 293.60863465066507, 293.68548146188044, 293.66268581869724, 293.61470231173917, -58041020.57578803, -58041020.57578803, -58041020.57578803, -58041020.57578803, -58041020.57578803, -58041020.57578803, -58041020.57578803, -58041020.57578803, -58041020.57578803, -58041020.57578803, -58041020.57578803, -58041020.57578803, 294.3675872743384], [0, 293.4065343463538, 293.22751332412764, 293.4564438812886, 294.5645114837123, 294.014509843474, 294.04947934505424, 293.8171576078042, 294.4788996343663, 293.9400956157566, 293.7412313846093, 293.648906739487, 293.516876360888, 293.18846518008434, 293.4375098196292, 294.1525060335488, 293.8148834500268, 294.01682547443755, 293.6789575587381, 293.3557037030267, 293.2293637956656, 293.43876531418204, -58103995.5889098, -58103995.5889098, -58103995.5889098, -58103995.5889098, -58103995.5889098, -58103995.5889098, -58103995.5889098, 293.9983833119236, -58103995.5889098, 294.3675872743384]]\n",
      "m1_s1_thermal_ctrl/i/rtd_state/value\n",
      "2024-11-21 11:19:23\n",
      "b'\\x02\\x02\\x02'\n",
      "m1_s1_thermal_ctrl/i/rtd_temperature/value\n",
      "2024-11-21 11:19:23\n",
      "[[1190.747412109375, 1190.747412109375, 1190.747412109375, 1190.747412109375, 1190.747412109375, 1190.747412109375, 1190.747412109375, 1190.747412109375, 294.287451171875, 1190.747412109375], [1190.747412109375, 1190.747412109375, 1190.747412109375, 1190.747412109375, 1190.747412109375, 1190.747412109375, 1190.747412109375, 1190.747412109375, 1190.747412109375, 1190.747412109375], [293.321630859375, 1190.747412109375, 1190.747412109375, 1190.747412109375, 1190.747412109375, 1190.747412109375, 1190.747412109375, 1190.747412109375, 1190.747412109375, 1190.747412109375]]\n"
     ]
    }
   ],
   "source": [
    "printDBVar(start_time,'m1_s1_thermal_ctrl/i/tc_unique_id/value')\n",
    "printDBVar(start_time,'m1_s1_thermal_ctrl/i/tc_state/value')\n",
    "printDBVar(start_time,'m1_s1_thermal_ctrl/i/tc_temperature/value')\n",
    "printDBVar(start_time,'m1_s1_thermal_ctrl/i/rtd_state/value')\n",
    "printDBVar(start_time,'m1_s1_thermal_ctrl/i/rtd_temperature/value')"
   ]
  },
  {
   "cell_type": "code",
   "execution_count": 16,
   "id": "6a2319f2",
   "metadata": {},
   "outputs": [
    {
     "name": "stdout",
     "output_type": "stream",
     "text": [
      "m1_s1_thermal_ctrl/i/mirror_temperature/value\n",
      "2024-11-21 11:19:23\n",
      "0\n",
      "0\n",
      "0\n",
      "0\n",
      "0\n",
      "0\n",
      "0\n",
      "0\n",
      "0\n",
      "0\n",
      "m1_s1_thermal_ctrl/i/ambient_temperature/value\n",
      "2024-11-21 11:19:23\n",
      "0\n",
      "m1_s1_thermal_ctrl/i/ahu_error_temperature/value\n",
      "2024-11-21 11:19:23\n",
      "[False, False, False, False, False, False, False, False, False, False, False, False, False, False]\n",
      "m1_s1_thermal_ctrl/i/ahu_inlet_air_temperature/value\n",
      "2024-11-21 11:19:23\n",
      "[0, 0, 0, 0, 0, 0, 0, 0, 0, 0, 0, 0, 0, 0]\n",
      "m1_s1_thermal_ctrl/i/ahu_return_vapor_temperature/value\n",
      "2024-11-21 11:19:23\n",
      "[0, 0, 0, 0, 0, 0, 0, 0, 0, 0, 0, 0, 0, 0]\n",
      "m1_s1_thermal_ctrl/i/ahu_evaporator_temperature/value\n",
      "2024-11-21 11:19:23\n",
      "[0, 0, 0, 0, 0, 0, 0, 0, 0, 0, 0, 0, 0, 0]\n"
     ]
    }
   ],
   "source": [
    "printDBVar(start_time,'m1_s1_thermal_ctrl/i/mirror_temperature/value', duration_in_s=10)\n",
    "printDBVar(start_time,'m1_s1_thermal_ctrl/i/ambient_temperature/value')\n",
    "printDBVar(start_time,'m1_s1_thermal_ctrl/i/ahu_error_temperature/value')\n",
    "printDBVar(start_time,'m1_s1_thermal_ctrl/i/ahu_inlet_air_temperature/value')\n",
    "printDBVar(start_time,'m1_s1_thermal_ctrl/i/ahu_return_vapor_temperature/value')\n",
    "printDBVar(start_time,'m1_s1_thermal_ctrl/i/ahu_evaporator_temperature/value')\n",
    "printDBVar(start_time,'m1_s1_thermal_ctrl/i/co2_vent_temperature/value')"
   ]
  },
  {
   "cell_type": "code",
   "execution_count": 24,
   "id": "ad4d01c6",
   "metadata": {},
   "outputs": [
    {
     "name": "stdout",
     "output_type": "stream",
     "text": [
      "m1_s1_thermal_ctrl/o/version/value\n",
      "2024-11-21 11:19:23\n",
      "\n",
      "m1_s1_thermal_ctrl/o/mirror_temperature/value\n",
      "2024-11-21 11:19:23\n",
      "0\n",
      "m1_s1_thermal_ctrl/o/dew_point/value\n",
      "2024-11-21 11:19:23\n",
      "0\n",
      "m1_s1_thermal_ctrl/o/mirror_temperature/value\n",
      "2024-11-21 11:19:23\n",
      "0\n",
      "m1_s1_thermal_ctrl/o/ahu_inlet_temperature/value\n",
      "2024-11-21 11:19:23\n",
      "[0, 0, 0, 0, 0, 0, 0, 0, 0, 0, 0, 0, 0, 0]\n",
      "m1_s1_thermal_ctrl/o/ahu_temperature/value\n",
      "2024-11-21 11:19:23\n",
      "[0, 0, 0, 0, 0, 0, 0, 0, 0, 0, 0, 0, 0, 0]\n",
      "m1_s1_thermal_ctrl/o/co2_ambient_temperature/value\n",
      "2024-11-21 11:19:23\n",
      "0\n"
     ]
    }
   ],
   "source": [
    "printDBVar(start_time,'m1_s1_thermal_ctrl/o/version/value')\n",
    "printDBVar(start_time,'m1_s1_thermal_ctrl/o/mirror_temperature/value')\n",
    "printDBVar(start_time,'m1_s1_thermal_ctrl/o/dew_point/value')\n",
    "printDBVar(start_time,'m1_s1_thermal_ctrl/o/mirror_temperature/value')\n",
    "printDBVar(start_time,'m1_s1_thermal_ctrl/o/ahu_inlet_temperature/value')\n",
    "printDBVar(start_time,'m1_s1_thermal_ctrl/o/ahu_temperature/value')\n",
    "printDBVar(start_time,'m1_s1_thermal_ctrl/o/co2_ambient_temperature/value')"
   ]
  },
  {
   "cell_type": "code",
   "execution_count": 26,
   "id": "7a778c3c",
   "metadata": {},
   "outputs": [
    {
     "name": "stdout",
     "output_type": "stream",
     "text": [
      "m1_s1_thermal_ctrl/p/ambient_offset_minimum/value\n",
      "2024-11-21 11:19:23\n",
      "m1_s1_thermal_ctrl/p/mirror_temperature_change_low/value\n",
      "2024-11-21 11:19:23\n"
     ]
    }
   ],
   "source": [
    "printDBVar(start_time,'m1_s1_thermal_ctrl/p/ambient_offset_minimum/value')\n",
    "printDBVar(start_time,'m1_s1_thermal_ctrl/p/mirror_temperature_change_low/value')"
   ]
  },
  {
   "cell_type": "code",
   "execution_count": null,
   "id": "757d9e24",
   "metadata": {},
   "outputs": [],
   "source": []
  },
  {
   "cell_type": "code",
   "execution_count": null,
   "id": "667cea54",
   "metadata": {},
   "outputs": [],
   "source": []
  }
 ],
 "metadata": {
  "kernelspec": {
   "display_name": "Python 3 (ipykernel)",
   "language": "python",
   "name": "python3"
  },
  "language_info": {
   "codemirror_mode": {
    "name": "ipython",
    "version": 3
   },
   "file_extension": ".py",
   "mimetype": "text/x-python",
   "name": "python",
   "nbconvert_exporter": "python",
   "pygments_lexer": "ipython3",
   "version": "3.11.5"
  }
 },
 "nbformat": 4,
 "nbformat_minor": 5
}
