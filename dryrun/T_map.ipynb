{
 "cells": [
  {
   "cell_type": "code",
   "execution_count": 1,
   "id": "e75e01da",
   "metadata": {},
   "outputs": [
    {
     "name": "stdout",
     "output_type": "stream",
     "text": [
      "Intel MKL WARNING: Support of Intel(R) Streaming SIMD Extensions 4.2 (Intel(R) SSE4.2) enabled only processors has been deprecated. Intel oneAPI Math Kernel Library 2025.0 will require Intel(R) Advanced Vector Extensions (Intel(R) AVX) instructions.\n",
      "Intel MKL WARNING: Support of Intel(R) Streaming SIMD Extensions 4.2 (Intel(R) SSE4.2) enabled only processors has been deprecated. Intel oneAPI Math Kernel Library 2025.0 will require Intel(R) Advanced Vector Extensions (Intel(R) AVX) instructions.\n",
      "## bending modes & influence matrices etc from Buddy #####################\n",
      "ML actuators =  165 165\n",
      "Afn =  (6991, 165)\n",
      "fv =  (165, 165)\n",
      "U matrix (6991, 165)\n",
      "N node =  6991\n",
      "## bending modes & influence matrices etc from Trupti #####################\n",
      "N actuators =  170\n",
      "Afz =  (27685, 170)\n",
      "Afx =  (27685, 170)\n",
      "Afy =  (27685, 170)\n",
      "U matrix (27685, 170)\n",
      "V matrix (170, 170)\n",
      "S matrix (170, 170)\n",
      "N node =  27685\n",
      "number of Mirror Front surface TCs =  48\n",
      "number of Mirror Back surface TCs =  48\n",
      "number of Mirror Middle TCs =  16\n"
     ]
    },
    {
     "data": {
      "text/plain": [
       "<Figure size 640x480 with 0 Axes>"
      ]
     },
     "metadata": {},
     "output_type": "display_data"
    }
   ],
   "source": [
    "import numpy as np\n",
    "import pandas as pd\n",
    "import matplotlib.pyplot as plt\n",
    "plt.jet()\n",
    "\n",
    "import sys\n",
    "sys.path.insert(0, '../')\n",
    "from M1S_tools import *\n",
    "\n",
    "import matplotlib.animation as animation\n",
    "from scipy.interpolate import griddata\n",
    "import datetime"
   ]
  },
  {
   "cell_type": "code",
   "execution_count": 2,
   "id": "299f12db",
   "metadata": {},
   "outputs": [
    {
     "data": {
      "text/html": [
       "<div>\n",
       "<style scoped>\n",
       "    .dataframe tbody tr th:only-of-type {\n",
       "        vertical-align: middle;\n",
       "    }\n",
       "\n",
       "    .dataframe tbody tr th {\n",
       "        vertical-align: top;\n",
       "    }\n",
       "\n",
       "    .dataframe thead th {\n",
       "        text-align: right;\n",
       "    }\n",
       "</style>\n",
       "<table border=\"1\" class=\"dataframe\">\n",
       "  <thead>\n",
       "    <tr style=\"text-align: right;\">\n",
       "      <th></th>\n",
       "      <th>HEADER</th>\n",
       "      <th>Name</th>\n",
       "      <th>X</th>\n",
       "      <th>Y</th>\n",
       "      <th>Which_Scanner</th>\n",
       "      <th>Scanner_channel</th>\n",
       "      <th>Scanner_Index</th>\n",
       "      <th>Valid</th>\n",
       "      <th>Offset</th>\n",
       "    </tr>\n",
       "  </thead>\n",
       "  <tbody>\n",
       "    <tr>\n",
       "      <th>0</th>\n",
       "      <td>DATA</td>\n",
       "      <td>TC1REF</td>\n",
       "      <td>0.000000</td>\n",
       "      <td>0.000000</td>\n",
       "      <td>0.0</td>\n",
       "      <td>0.0</td>\n",
       "      <td>0.0</td>\n",
       "      <td>1.0</td>\n",
       "      <td>0.0</td>\n",
       "    </tr>\n",
       "    <tr>\n",
       "      <th>1</th>\n",
       "      <td>DATA</td>\n",
       "      <td>MTCIN002B</td>\n",
       "      <td>-0.332903</td>\n",
       "      <td>-0.474510</td>\n",
       "      <td>0.0</td>\n",
       "      <td>1.0</td>\n",
       "      <td>0.0</td>\n",
       "      <td>1.0</td>\n",
       "      <td>0.0</td>\n",
       "    </tr>\n",
       "    <tr>\n",
       "      <th>2</th>\n",
       "      <td>DATA</td>\n",
       "      <td>MTCIN002M</td>\n",
       "      <td>-0.332903</td>\n",
       "      <td>-0.474510</td>\n",
       "      <td>0.0</td>\n",
       "      <td>2.0</td>\n",
       "      <td>0.0</td>\n",
       "      <td>1.0</td>\n",
       "      <td>0.0</td>\n",
       "    </tr>\n",
       "    <tr>\n",
       "      <th>3</th>\n",
       "      <td>DATA</td>\n",
       "      <td>MTCIN002F</td>\n",
       "      <td>-0.332892</td>\n",
       "      <td>-0.384404</td>\n",
       "      <td>0.0</td>\n",
       "      <td>3.0</td>\n",
       "      <td>0.0</td>\n",
       "      <td>1.0</td>\n",
       "      <td>0.0</td>\n",
       "    </tr>\n",
       "    <tr>\n",
       "      <th>4</th>\n",
       "      <td>DATA</td>\n",
       "      <td>MTC013B</td>\n",
       "      <td>-1.742551</td>\n",
       "      <td>-1.198263</td>\n",
       "      <td>0.0</td>\n",
       "      <td>4.0</td>\n",
       "      <td>0.0</td>\n",
       "      <td>1.0</td>\n",
       "      <td>0.0</td>\n",
       "    </tr>\n",
       "    <tr>\n",
       "      <th>...</th>\n",
       "      <td>...</td>\n",
       "      <td>...</td>\n",
       "      <td>...</td>\n",
       "      <td>...</td>\n",
       "      <td>...</td>\n",
       "      <td>...</td>\n",
       "      <td>...</td>\n",
       "      <td>...</td>\n",
       "      <td>...</td>\n",
       "    </tr>\n",
       "    <tr>\n",
       "      <th>149</th>\n",
       "      <td>DATA</td>\n",
       "      <td>CTCAA003</td>\n",
       "      <td>0.000000</td>\n",
       "      <td>0.000000</td>\n",
       "      <td>5.0</td>\n",
       "      <td>24.0</td>\n",
       "      <td>5.0</td>\n",
       "      <td>1.0</td>\n",
       "      <td>0.0</td>\n",
       "    </tr>\n",
       "    <tr>\n",
       "      <th>150</th>\n",
       "      <td>DATA</td>\n",
       "      <td>CTCCW003W</td>\n",
       "      <td>0.000000</td>\n",
       "      <td>0.000000</td>\n",
       "      <td>5.0</td>\n",
       "      <td>25.0</td>\n",
       "      <td>5.0</td>\n",
       "      <td>1.0</td>\n",
       "      <td>0.0</td>\n",
       "    </tr>\n",
       "    <tr>\n",
       "      <th>151</th>\n",
       "      <td>DATA</td>\n",
       "      <td>CTCCW003F</td>\n",
       "      <td>0.000000</td>\n",
       "      <td>0.000000</td>\n",
       "      <td>5.0</td>\n",
       "      <td>26.0</td>\n",
       "      <td>5.0</td>\n",
       "      <td>1.0</td>\n",
       "      <td>0.0</td>\n",
       "    </tr>\n",
       "    <tr>\n",
       "      <th>152</th>\n",
       "      <td>DATA</td>\n",
       "      <td>CTCIB006</td>\n",
       "      <td>0.000000</td>\n",
       "      <td>0.000000</td>\n",
       "      <td>5.0</td>\n",
       "      <td>31.0</td>\n",
       "      <td>5.0</td>\n",
       "      <td>1.0</td>\n",
       "      <td>0.0</td>\n",
       "    </tr>\n",
       "    <tr>\n",
       "      <th>153</th>\n",
       "      <td>VERSION 2</td>\n",
       "      <td>NaN</td>\n",
       "      <td>NaN</td>\n",
       "      <td>NaN</td>\n",
       "      <td>NaN</td>\n",
       "      <td>NaN</td>\n",
       "      <td>NaN</td>\n",
       "      <td>NaN</td>\n",
       "      <td>NaN</td>\n",
       "    </tr>\n",
       "  </tbody>\n",
       "</table>\n",
       "<p>154 rows × 9 columns</p>\n",
       "</div>"
      ],
      "text/plain": [
       "        HEADER        Name         X         Y   Which_Scanner  \\\n",
       "0         DATA      TC1REF  0.000000  0.000000             0.0   \n",
       "1         DATA   MTCIN002B -0.332903 -0.474510             0.0   \n",
       "2         DATA   MTCIN002M -0.332903 -0.474510             0.0   \n",
       "3         DATA   MTCIN002F -0.332892 -0.384404             0.0   \n",
       "4         DATA     MTC013B -1.742551 -1.198263             0.0   \n",
       "..         ...         ...       ...       ...             ...   \n",
       "149       DATA    CTCAA003  0.000000  0.000000             5.0   \n",
       "150       DATA   CTCCW003W  0.000000  0.000000             5.0   \n",
       "151       DATA   CTCCW003F  0.000000  0.000000             5.0   \n",
       "152       DATA    CTCIB006  0.000000  0.000000             5.0   \n",
       "153  VERSION 2         NaN       NaN       NaN             NaN   \n",
       "\n",
       "      Scanner_channel   Scanner_Index   Valid   Offset  \n",
       "0                 0.0             0.0     1.0      0.0  \n",
       "1                 1.0             0.0     1.0      0.0  \n",
       "2                 2.0             0.0     1.0      0.0  \n",
       "3                 3.0             0.0     1.0      0.0  \n",
       "4                 4.0             0.0     1.0      0.0  \n",
       "..                ...             ...     ...      ...  \n",
       "149              24.0             5.0     1.0      0.0  \n",
       "150              25.0             5.0     1.0      0.0  \n",
       "151              26.0             5.0     1.0      0.0  \n",
       "152              31.0             5.0     1.0      0.0  \n",
       "153               NaN             NaN     NaN      NaN  \n",
       "\n",
       "[154 rows x 9 columns]"
      ]
     },
     "execution_count": 2,
     "metadata": {},
     "output_type": "execute_result"
    }
   ],
   "source": [
    "inputfile = '../ml_data_interface/m1s3_tc_20241209.txt'\n",
    "df = pd.read_csv(inputfile, skiprows=14, nrows=154)\n",
    "df\n",
    "#verify that table below is 1 row more than what we need"
   ]
  },
  {
   "cell_type": "code",
   "execution_count": 3,
   "id": "708f6115",
   "metadata": {},
   "outputs": [],
   "source": [
    "# Remove the last row\n",
    "df = df.iloc[:-1]"
   ]
  },
  {
   "cell_type": "code",
   "execution_count": 4,
   "id": "9008aa70",
   "metadata": {},
   "outputs": [],
   "source": [
    "# Remove leading and trailing spaces from column names\n",
    "df.columns = df.columns.str.strip()\n",
    "# Step 2: Remove leading/trailing spaces from all string values in the DataFrame\n",
    "df = df.map(lambda x: x.strip() if isinstance(x, str) else x)"
   ]
  },
  {
   "cell_type": "code",
   "execution_count": 5,
   "id": "7dd03369",
   "metadata": {},
   "outputs": [
    {
     "data": {
      "text/html": [
       "<div>\n",
       "<style scoped>\n",
       "    .dataframe tbody tr th:only-of-type {\n",
       "        vertical-align: middle;\n",
       "    }\n",
       "\n",
       "    .dataframe tbody tr th {\n",
       "        vertical-align: top;\n",
       "    }\n",
       "\n",
       "    .dataframe thead th {\n",
       "        text-align: right;\n",
       "    }\n",
       "</style>\n",
       "<table border=\"1\" class=\"dataframe\">\n",
       "  <thead>\n",
       "    <tr style=\"text-align: right;\">\n",
       "      <th></th>\n",
       "      <th>HEADER</th>\n",
       "      <th>Name</th>\n",
       "      <th>X</th>\n",
       "      <th>Y</th>\n",
       "      <th>Which_Scanner</th>\n",
       "      <th>Scanner_channel</th>\n",
       "      <th>Scanner_Index</th>\n",
       "      <th>Valid</th>\n",
       "      <th>Offset</th>\n",
       "    </tr>\n",
       "  </thead>\n",
       "  <tbody>\n",
       "    <tr>\n",
       "      <th>0</th>\n",
       "      <td>DATA</td>\n",
       "      <td>TC1REF</td>\n",
       "      <td>0.000000</td>\n",
       "      <td>0.000000</td>\n",
       "      <td>0.0</td>\n",
       "      <td>0.0</td>\n",
       "      <td>0.0</td>\n",
       "      <td>1.0</td>\n",
       "      <td>0.0</td>\n",
       "    </tr>\n",
       "    <tr>\n",
       "      <th>1</th>\n",
       "      <td>DATA</td>\n",
       "      <td>MTCIN002B</td>\n",
       "      <td>-0.332903</td>\n",
       "      <td>-0.474510</td>\n",
       "      <td>0.0</td>\n",
       "      <td>1.0</td>\n",
       "      <td>0.0</td>\n",
       "      <td>1.0</td>\n",
       "      <td>0.0</td>\n",
       "    </tr>\n",
       "    <tr>\n",
       "      <th>2</th>\n",
       "      <td>DATA</td>\n",
       "      <td>MTCIN002M</td>\n",
       "      <td>-0.332903</td>\n",
       "      <td>-0.474510</td>\n",
       "      <td>0.0</td>\n",
       "      <td>2.0</td>\n",
       "      <td>0.0</td>\n",
       "      <td>1.0</td>\n",
       "      <td>0.0</td>\n",
       "    </tr>\n",
       "    <tr>\n",
       "      <th>3</th>\n",
       "      <td>DATA</td>\n",
       "      <td>MTCIN002F</td>\n",
       "      <td>-0.332892</td>\n",
       "      <td>-0.384404</td>\n",
       "      <td>0.0</td>\n",
       "      <td>3.0</td>\n",
       "      <td>0.0</td>\n",
       "      <td>1.0</td>\n",
       "      <td>0.0</td>\n",
       "    </tr>\n",
       "    <tr>\n",
       "      <th>4</th>\n",
       "      <td>DATA</td>\n",
       "      <td>MTC013B</td>\n",
       "      <td>-1.742551</td>\n",
       "      <td>-1.198263</td>\n",
       "      <td>0.0</td>\n",
       "      <td>4.0</td>\n",
       "      <td>0.0</td>\n",
       "      <td>1.0</td>\n",
       "      <td>0.0</td>\n",
       "    </tr>\n",
       "    <tr>\n",
       "      <th>...</th>\n",
       "      <td>...</td>\n",
       "      <td>...</td>\n",
       "      <td>...</td>\n",
       "      <td>...</td>\n",
       "      <td>...</td>\n",
       "      <td>...</td>\n",
       "      <td>...</td>\n",
       "      <td>...</td>\n",
       "      <td>...</td>\n",
       "    </tr>\n",
       "    <tr>\n",
       "      <th>148</th>\n",
       "      <td>DATA</td>\n",
       "      <td>CTCUP012</td>\n",
       "      <td>0.000000</td>\n",
       "      <td>0.000000</td>\n",
       "      <td>5.0</td>\n",
       "      <td>23.0</td>\n",
       "      <td>5.0</td>\n",
       "      <td>1.0</td>\n",
       "      <td>0.0</td>\n",
       "    </tr>\n",
       "    <tr>\n",
       "      <th>149</th>\n",
       "      <td>DATA</td>\n",
       "      <td>CTCAA003</td>\n",
       "      <td>0.000000</td>\n",
       "      <td>0.000000</td>\n",
       "      <td>5.0</td>\n",
       "      <td>24.0</td>\n",
       "      <td>5.0</td>\n",
       "      <td>1.0</td>\n",
       "      <td>0.0</td>\n",
       "    </tr>\n",
       "    <tr>\n",
       "      <th>150</th>\n",
       "      <td>DATA</td>\n",
       "      <td>CTCCW003W</td>\n",
       "      <td>0.000000</td>\n",
       "      <td>0.000000</td>\n",
       "      <td>5.0</td>\n",
       "      <td>25.0</td>\n",
       "      <td>5.0</td>\n",
       "      <td>1.0</td>\n",
       "      <td>0.0</td>\n",
       "    </tr>\n",
       "    <tr>\n",
       "      <th>151</th>\n",
       "      <td>DATA</td>\n",
       "      <td>CTCCW003F</td>\n",
       "      <td>0.000000</td>\n",
       "      <td>0.000000</td>\n",
       "      <td>5.0</td>\n",
       "      <td>26.0</td>\n",
       "      <td>5.0</td>\n",
       "      <td>1.0</td>\n",
       "      <td>0.0</td>\n",
       "    </tr>\n",
       "    <tr>\n",
       "      <th>152</th>\n",
       "      <td>DATA</td>\n",
       "      <td>CTCIB006</td>\n",
       "      <td>0.000000</td>\n",
       "      <td>0.000000</td>\n",
       "      <td>5.0</td>\n",
       "      <td>31.0</td>\n",
       "      <td>5.0</td>\n",
       "      <td>1.0</td>\n",
       "      <td>0.0</td>\n",
       "    </tr>\n",
       "  </tbody>\n",
       "</table>\n",
       "<p>153 rows × 9 columns</p>\n",
       "</div>"
      ],
      "text/plain": [
       "    HEADER       Name         X         Y  Which_Scanner  Scanner_channel  \\\n",
       "0     DATA     TC1REF  0.000000  0.000000            0.0              0.0   \n",
       "1     DATA  MTCIN002B -0.332903 -0.474510            0.0              1.0   \n",
       "2     DATA  MTCIN002M -0.332903 -0.474510            0.0              2.0   \n",
       "3     DATA  MTCIN002F -0.332892 -0.384404            0.0              3.0   \n",
       "4     DATA    MTC013B -1.742551 -1.198263            0.0              4.0   \n",
       "..     ...        ...       ...       ...            ...              ...   \n",
       "148   DATA   CTCUP012  0.000000  0.000000            5.0             23.0   \n",
       "149   DATA   CTCAA003  0.000000  0.000000            5.0             24.0   \n",
       "150   DATA  CTCCW003W  0.000000  0.000000            5.0             25.0   \n",
       "151   DATA  CTCCW003F  0.000000  0.000000            5.0             26.0   \n",
       "152   DATA   CTCIB006  0.000000  0.000000            5.0             31.0   \n",
       "\n",
       "     Scanner_Index  Valid  Offset  \n",
       "0              0.0    1.0     0.0  \n",
       "1              0.0    1.0     0.0  \n",
       "2              0.0    1.0     0.0  \n",
       "3              0.0    1.0     0.0  \n",
       "4              0.0    1.0     0.0  \n",
       "..             ...    ...     ...  \n",
       "148            5.0    1.0     0.0  \n",
       "149            5.0    1.0     0.0  \n",
       "150            5.0    1.0     0.0  \n",
       "151            5.0    1.0     0.0  \n",
       "152            5.0    1.0     0.0  \n",
       "\n",
       "[153 rows x 9 columns]"
      ]
     },
     "execution_count": 5,
     "metadata": {},
     "output_type": "execute_result"
    }
   ],
   "source": [
    "df"
   ]
  },
  {
   "cell_type": "code",
   "execution_count": 6,
   "id": "82b66a08",
   "metadata": {},
   "outputs": [
    {
     "name": "stdout",
     "output_type": "stream",
     "text": [
      "number of Mirror Front surface TCs =  48\n",
      "number of Mirror Back surface TCs =  48\n",
      "number of Mirror Middle TCs =  16\n",
      "number of RTDs =  6\n"
     ]
    }
   ],
   "source": [
    "# Logical index for rows with 'Name' starting with \"MTC\" and ending with \"F\"\n",
    "idx_mirror_f1 = df['Name'].str.startswith('MTC') & df['Name'].str.endswith('F')\n",
    "print('number of Mirror Front surface TCs = ', sum(idx_mirror_f1))\n",
    "# Display the logical index\n",
    "idx_mirror_b1 = df['Name'].str.startswith('MTC') & df['Name'].str.endswith('B')\n",
    "print('number of Mirror Back surface TCs = ', sum(idx_mirror_b1))\n",
    "idx_mirror_m1 = df['Name'].str.startswith('MTC') & df['Name'].str.endswith('M')\n",
    "print('number of Mirror Middle TCs = ', sum(idx_mirror_m1))\n",
    "idx_rtd1 = df['Name'].str.startswith('TC') & df['Name'].str.endswith('REF')\n",
    "print('number of RTDs = ', sum(idx_rtd1))"
   ]
  },
  {
   "cell_type": "code",
   "execution_count": 7,
   "id": "bd508d93",
   "metadata": {},
   "outputs": [
    {
     "data": {
      "text/plain": [
       "'MTCIN002B'"
      ]
     },
     "execution_count": 7,
     "metadata": {},
     "output_type": "execute_result"
    }
   ],
   "source": [
    "df['Name'][1]"
   ]
  },
  {
   "cell_type": "code",
   "execution_count": 9,
   "id": "6e838f85",
   "metadata": {},
   "outputs": [
    {
     "data": {
      "text/plain": [
       "(-4.4914386, 4.4914386, -4.4902649, 4.4902649)"
      ]
     },
     "execution_count": 9,
     "metadata": {},
     "output_type": "execute_result"
    },
    {
     "data": {
      "image/png": "[encoded data removed]",
      "text/plain": [
       "<Figure size 640x480 with 1 Axes>"
      ]
     },
     "metadata": {},
     "output_type": "display_data"
    }
   ],
   "source": [
    "plt.scatter(df['X'][idx_mirror_f1], df['Y'][idx_mirror_f1])\n",
    "plt.axis('equal')"
   ]
  },
  {
   "cell_type": "code",
   "execution_count": 10,
   "id": "967c628f",
   "metadata": {},
   "outputs": [
    {
     "data": {
      "text/plain": [
       "(-4.590848899999999, 4.590848899999999, -4.5896587, 4.5896587)"
      ]
     },
     "execution_count": 10,
     "metadata": {},
     "output_type": "execute_result"
    },
    {
     "data": {
      "image/png": "[encoded data removed]",
      "text/plain": [
       "<Figure size 640x480 with 1 Axes>"
      ]
     },
     "metadata": {},
     "output_type": "display_data"
    }
   ],
   "source": [
    "plt.scatter(df['X'][idx_mirror_b1], df['Y'][idx_mirror_b1])\n",
    "plt.axis('equal')"
   ]
  },
  {
   "cell_type": "code",
   "execution_count": 11,
   "id": "c452b90a",
   "metadata": {},
   "outputs": [
    {
     "data": {
      "text/plain": [
       "(-4.590848899999999, 4.590848899999999, -4.5896587, 4.5896587)"
      ]
     },
     "execution_count": 11,
     "metadata": {},
     "output_type": "execute_result"
    },
    {
     "data": {
      "image/png": "[encoded data removed]",
      "text/plain": [
       "<Figure size 640x480 with 1 Axes>"
      ]
     },
     "metadata": {},
     "output_type": "display_data"
    }
   ],
   "source": [
    "plt.scatter(df['X'][idx_mirror_m1], df['Y'][idx_mirror_m1])\n",
    "plt.axis('equal')"
   ]
  },
  {
   "cell_type": "code",
   "execution_count": 12,
   "id": "6639cfac",
   "metadata": {},
   "outputs": [],
   "source": [
    "#starting from a few hours before turning on the suckulators\n",
    "#ending a few hours after turning on the suckulators\n",
    "start_time = 1734445080 - 18*3600 #with the 2nd term, we start at 7:18am\n",
    "end_time = 1734549480\n",
    "duration = end_time - start_time"
   ]
  },
  {
   "cell_type": "code",
   "execution_count": 13,
   "id": "a07aa7f7",
   "metadata": {},
   "outputs": [
    {
     "name": "stdout",
     "output_type": "stream",
     "text": [
      "m1_s1_thermal_ctrl/i/tc_temperature/value\n",
      "2024-12-16 13:18:00  duration =  169200  s\n",
      "(101, 6, 32)\n",
      "(101, 192)\n"
     ]
    }
   ],
   "source": [
    "nsamples = 100\n",
    "tc, tt = getDBData(start_time,'m1_s1_thermal_ctrl/i/tc_temperature/value', duration_in_s=duration, samples=nsamples)"
   ]
  },
  {
   "cell_type": "code",
   "execution_count": 14,
   "id": "a7a8ab64",
   "metadata": {},
   "outputs": [
    {
     "data": {
      "text/plain": [
       "<matplotlib.collections.PathCollection at 0x12e85ac90>"
      ]
     },
     "execution_count": 14,
     "metadata": {},
     "output_type": "execute_result"
    },
    {
     "data": {
      "image/png": "[encoded data removed]",
      "text/plain": [
       "<Figure size 640x480 with 1 Axes>"
      ]
     },
     "metadata": {},
     "output_type": "display_data"
    }
   ],
   "source": [
    "plt.scatter(tc_locs[idx_mirror_f,0], tc_locs[idx_mirror_f,1], c = tc[0,idx_mirror_f])"
   ]
  },
  {
   "cell_type": "code",
   "execution_count": 15,
   "id": "799dc1b0",
   "metadata": {},
   "outputs": [
    {
     "ename": "AttributeError",
     "evalue": "'list' object has no attribute 'shape'",
     "output_type": "error",
     "traceback": [
      "\u001b[0;31m---------------------------------------------------------------------------\u001b[0m",
      "\u001b[0;31mAttributeError\u001b[0m                            Traceback (most recent call last)",
      "Cell \u001b[0;32mIn[15], line 1\u001b[0m\n\u001b[0;32m----> 1\u001b[0m idx_mirror_f\u001b[38;5;241m.\u001b[39mshape\n",
      "\u001b[0;31mAttributeError\u001b[0m: 'list' object has no attribute 'shape'"
     ]
    }
   ],
   "source": [
    "idx_mirror_f.shape"
   ]
  },
  {
   "cell_type": "code",
   "execution_count": null,
   "id": "8ed0ebb5",
   "metadata": {},
   "outputs": [],
   "source": [
    "x = tc_locs[idx_mirror_f][:,0] \n",
    "y = tc_locs[idx_mirror_f][:,1]\n",
    "z = tc[0,idx_mirror_f]\n",
    "\n",
    "# Define the grid for interpolation\n",
    "grid_size = 500  # Resolution of the grid\n",
    "xi = np.linspace(-radius_of_CA, radius_of_CA, grid_size)\n",
    "yi = np.linspace(-radius_of_CA, radius_of_CA, grid_size)\n",
    "xi, yi = np.meshgrid(xi, yi)\n",
    "\n",
    "# Create a circular mask for the given radius\n",
    "mask = np.sqrt(xi**2 + yi**2) <= radius_of_CA\n",
    "\n",
    "# Interpolate z-values to the grid\n",
    "zi = griddata((x, y), z, (xi, yi), method='linear')\n",
    "\n",
    "# Apply the circular mask\n",
    "zi[~mask] = np.nan  # Set values outside the circle to NaN\n",
    "\n",
    "# Plot the result\n",
    "plt.figure(figsize=(8, 8))\n",
    "contour = plt.contourf(xi, yi, zi, levels=100, cmap='jet')\n",
    "plt.colorbar(contour, label='Z values')\n",
    "plt.scatter(x, y, c=z, edgecolor='k', cmap='jet', label='TCs')\n",
    "plt.gca().set_aspect('equal', adjustable='box')\n",
    "plt.title('Front Surface')\n",
    "plt.xlabel('X (m)')\n",
    "plt.ylabel('Y (m)')\n",
    "plt.legend()\n",
    "plt.show()"
   ]
  },
  {
   "cell_type": "code",
   "execution_count": null,
   "id": "e6ea3a90",
   "metadata": {},
   "outputs": [],
   "source": [
    "tmirror, tt = getDBData(start_time,'m1_s1_thermal_ctrl/i/mirror_temperature/value', duration_in_s=duration, samples=nsamples)\n",
    "tambient, tt = getDBData(start_time,'m1_s1_thermal_ctrl/i/ambient_temperature/value', duration_in_s=duration, samples=nsamples)\n",
    "time_steps = tc.shape[0]  # Number of time steps\n",
    "\n",
    "# Define the grid for interpolation\n",
    "grid_size = 500  # Resolution of the grid\n",
    "xi = np.linspace(-radius_of_CA, radius_of_CA, grid_size)\n",
    "yi = np.linspace(-radius_of_CA, radius_of_CA, grid_size)\n",
    "xi, yi = np.meshgrid(xi, yi)\n",
    "\n",
    "# Create a circular mask for the given radius\n",
    "mask = np.sqrt(xi**2 + yi**2) <= radius_of_CA\n",
    "\n",
    "# Set the fixed color limits (vmin, vmax) for the contour plot\n",
    "tc[tc>30] = np.nan\n",
    "tc[tc<10] = np.nan\n",
    "vmin = np.nanmin(tambient)  # Minimum value for the colorbar\n",
    "vmax = np.nanmax(tmirror)  # Maximum value for the colorbar\n",
    "#levels = np.linspace(vmin, vmax, 100)  # Explicitly define levels\n",
    "vmax_index = np.nanargmax(tmirror)\n",
    "tt0 = tt[vmax_index]\n",
    "#print('vmin, vmax, ==== ', vmin, vmax)\n",
    "cbar_span = 0.6 #deg"
   ]
  },
  {
   "cell_type": "code",
   "execution_count": null,
   "id": "7ab4af65",
   "metadata": {},
   "outputs": [],
   "source": [
    "def update_plot(frame):\n",
    "\n",
    "    if hasattr(update_plot, 'timeline'):\n",
    "        update_plot.timeline.remove()\n",
    "    #update_plot.timeline = ax1.axvline(x=(tt[frame]-tt0)/3600., color='r', linestyle='--', label='Current Time')\n",
    "    update_plot.timeline = ax1.axvline(x=frame, color='r', linestyle='--', label='Current Time')\n",
    "    ax1.set_title(f'Current Time = {datetime.datetime.fromtimestamp(tt[frame]).strftime(\"%Y-%m-%d %H:%M\")} hours', fontsize=10)\n",
    "\n",
    "    ax2.clear()  # **Clear the right plot (ax2)**\n",
    "    # Get the data for the current time step\n",
    "    x = tc_locs[idx_mirror_f][:,0]\n",
    "    y = tc_locs[idx_mirror_f][:,1]\n",
    "    z = tc[frame, idx_mirror_f]  # Extract z-values for the current time step\n",
    "\n",
    "    # Interpolate z-values to the grid\n",
    "    zi = griddata((x, y), z, (xi, yi), method='linear')\n",
    "\n",
    "    # Apply the circular mask\n",
    "    zi[~mask] = np.nan  # Set values outside the circle to NaN\n",
    "\n",
    "    midpoint = np.nanmean(zi)\n",
    "    levels = np.linspace(midpoint-cbar_span/2., midpoint+cbar_span/2., 100)\n",
    "    zi = np.clip(zi, np.min(levels), np.max(levels))\n",
    "\n",
    "    # Plot the contour plot\n",
    "    contour = ax2.contourf(xi, yi, zi, levels=levels, cmap='jet') #use levels=levels if you want colorbar fixed!!!\n",
    "    ax2.set_aspect('equal', adjustable='box')\n",
    "    ax2.set_title('Front, Max - Min = %.2f Deg'%(np.nanmax(z)-np.nanmin(z)), fontsize=10)\n",
    "    ax2.set_xlabel('X (m)')\n",
    "    ax2.set_ylabel('Y (m)')\n",
    "    if hasattr(update_plot, 'cbar2'):\n",
    "        update_plot.cbar2.remove()\n",
    "    #update_plot.cbar2 = fig.colorbar(contour, ax=ax2, label='Colorbar Max - Min = %.2f Deg'%cbar_span)  # Store the colorbar\n",
    "    update_plot.cbar2 = fig.colorbar(contour, ax=ax2, format='%.2f')#, label='Temperature')  # Store the colorbar\n",
    "    #update_plot.cbar2.set_ticks(np.linspace(vmin, vmax, num=5))\n",
    "    ax2.scatter(x, y, c=z, edgecolor='k', cmap='jet', vmin=np.min(levels), vmax=np.max(levels), label='TCs')\n",
    "    #ax2.legend(loc='upper right')\n",
    "\n",
    "    #ax3 for middle\n",
    "    ax3.clear()\n",
    "    x = tc_locs[idx_mirror_m][:,0]\n",
    "    y = tc_locs[idx_mirror_m][:,1]\n",
    "    z = tc[frame, idx_mirror_m]\n",
    "    zi = griddata((x, y), z, (xi, yi), method='linear')\n",
    "    zi[~mask] = np.nan  # Set values outside the circle to NaN\n",
    "\n",
    "    midpoint = np.nanmean(zi)\n",
    "    levels = np.linspace(midpoint-cbar_span/2., midpoint+cbar_span/2., 100)\n",
    "    zi = np.clip(zi, np.min(levels), np.max(levels))\n",
    "\n",
    "    contour = ax3.contourf(xi, yi, zi, levels=levels, cmap='jet')\n",
    "    ax3.set_aspect('equal', adjustable='box')\n",
    "    ax3.set_title('Middle, Max - Min = %.2f Deg'%(np.nanmax(zi)-np.nanmin(zi)), fontsize=10)\n",
    "    ax3.set_xlabel('X (m)')\n",
    "    ax3.set_ylabel('Y (m)')\n",
    "    if hasattr(update_plot, 'cbar3'):\n",
    "        update_plot.cbar3.remove()\n",
    "    update_plot.cbar3 = fig.colorbar(contour, ax=ax3, format='%.2f')#, label='Temperature')  # Store the colorbar\n",
    "    ax3.scatter(x, y, c=z, edgecolor='k', vmin=np.min(levels), vmax=np.max(levels), cmap='jet', label='TCs')\n",
    "    #ax3.legend(loc='upper right')\n",
    "\n",
    "    #ax4 for back\n",
    "    ax4.clear()\n",
    "    x = tc_locs[idx_mirror_b][:,0]\n",
    "    y = tc_locs[idx_mirror_b][:,1]\n",
    "    z = tc[frame, idx_mirror_b]\n",
    "    zi = griddata((x, y), z, (xi, yi), method='linear')\n",
    "    zi[~mask] = np.nan  # Set values outside the circle to NaN\n",
    "\n",
    "    midpoint = np.nanmean(zi)\n",
    "    levels = np.linspace(midpoint-cbar_span/2., midpoint+cbar_span/2., 100)\n",
    "    zi = np.clip(zi, np.min(levels), np.max(levels))\n",
    "\n",
    "    contour = ax4.contourf(xi, yi, zi, levels=levels, cmap='jet')\n",
    "    ax4.set_aspect('equal', adjustable='box')\n",
    "    ax4.set_title('Back, Max - Min = %.2f Deg'%(np.nanmax(zi)-np.nanmin(zi)), fontsize=10)\n",
    "    ax4.set_xlabel('X (m)')\n",
    "    #ax4.set_ylabel('Y (m)')\n",
    "    if hasattr(update_plot, 'cbar4'):\n",
    "        update_plot.cbar4.remove()\n",
    "    update_plot.cbar4 = fig.colorbar(contour, ax=ax4, format='%.2f')#, label='Temperature')  # Store the colorbar\n",
    "    ax4.scatter(x, y, c=z, edgecolor='k', cmap='jet', vmin=np.min(levels), vmax=np.max(levels), label='TCs')\n",
    "    #ax4.legend(loc='upper right')\n",
    "\n",
    "    #ax4 for back\n",
    "    ax5.clear()\n",
    "    x = tc_locs[idx_mirror_b][:,0]\n",
    "    y = tc_locs[idx_mirror_b][:,1]\n",
    "    z = tc[frame, idx_mirror_b] - tc[frame, idx_mirror_f]\n",
    "    zi = griddata((x, y), z, (xi, yi), method='linear')\n",
    "    zi[~mask] = np.nan  # Set values outside the circle to NaN\n",
    "\n",
    "    midpoint = np.nanmean(zi)\n",
    "    levels = np.linspace(midpoint-cbar_span/2., midpoint+cbar_span/2., 100)\n",
    "    zi = np.clip(zi, np.min(levels), np.max(levels))\n",
    "\n",
    "    contour = ax5.contourf(xi, yi, zi, levels=levels, cmap='jet')\n",
    "    ax5.set_aspect('equal', adjustable='box')\n",
    "    ax5.set_title('Back-Front, Max - Min = %.2f Deg'%(np.nanmax(zi)-np.nanmin(zi)), fontsize=10)\n",
    "    ax5.set_xlabel('X (m)')\n",
    "    #ax5.set_ylabel('Y (m)')\n",
    "    if hasattr(update_plot, 'cbar5'):\n",
    "        update_plot.cbar5.remove()\n",
    "    update_plot.cbar5 = fig.colorbar(contour, ax=ax5, format='%.2f')#, label='Temperature')  # Store the colorbar\n",
    "    ax5.scatter(x, y, c=z, edgecolor='k', cmap='jet', vmin=np.min(levels), vmax=np.max(levels), label='TCs')\n",
    "    #ax5.legend(loc='upper right')\n",
    "    \n",
    "    # Redraw the figure\n",
    "    plt.draw()"
   ]
  },
  {
   "cell_type": "code",
   "execution_count": null,
   "id": "77edc607",
   "metadata": {},
   "outputs": [],
   "source": [
    "# Create the figure and axis for the subplots (2 panels)\n",
    "#fig, ((ax1, ax2), (ax3, ax4)) = plt.subplots(2, 2, figsize=(12, 8))  # **Create 2 subplots: left (ax1) for tmirror, right (ax2) for contour plot**\n",
    "#fig.subplots_adjust(hspace=0.4, wspace=0.3)\n",
    "fig = plt.figure()\n",
    "fig.set_figheight(8)\n",
    "fig.set_figwidth(12)\n",
    "\n",
    "ax1 = plt.subplot2grid(shape=(2, 3), loc=(0,0), colspan=2) #HD\n",
    "ax2 = plt.subplot2grid(shape=(2, 3), loc=(1,0)) #front surf\n",
    "ax3 = plt.subplot2grid(shape=(2, 3), loc=(0,2)) #middle\n",
    "ax4 = plt.subplot2grid(shape=(2, 3), loc=(1,1)) #back\n",
    "ax5 = plt.subplot2grid(shape=(2, 3), loc=(1,2)) #back-front\n",
    "\n",
    "# Plot the tmirror on the left (ax1)  **New: Plot `tmirror` over time on the left panel**\n",
    "time_labels = [datetime.datetime.fromtimestamp(ts).strftime('%H:%M') for ts in tt]\n",
    "ax1.plot(time_labels, tmirror, label=\"Mirror Temperature\", color=\"b\")\n",
    "ax1.plot(time_labels, tambient, label=\"Ambient Temperature\", color=\"k\")\n",
    "ax1.set_xlabel('Time (hours)')\n",
    "ax1.set_ylabel('Mirror Temperature (°C)')\n",
    "#ax1.set_title('Mirror Temperature over Time')\n",
    "ax1.set_ylim(min(tambient)-0.2*(vmax-vmin), max(tmirror)+0.2*(vmax-vmin))  # Adjust y-axis based on your data\n",
    "timeline = ax1.axvline(x=(tt[0]-tt0)/3600., color='r', linestyle='--', label='Current Time')\n",
    "ax1.legend(loc='upper right')\n",
    "timeline.remove()\n",
    "ax1.grid()\n",
    "ax1.set_xticks(ticks=np.arange(0, len(time_labels), step=10), labels=[time_labels[i] for i in range(0, len(time_labels), 10)])\n",
    "\n",
    "# Create the animation\n",
    "ani = animation.FuncAnimation(fig, update_plot, frames=time_steps, repeat=False)\n",
    "#ani = animation.FuncAnimation(fig, update_plot, frames=1, repeat=False)\n",
    "\n",
    "# Save the animation as an MP4 file\n",
    "ani.save('tc_surface_animation.mp4', writer='ffmpeg', fps=5)  # Modify fps as needed"
   ]
  },
  {
   "cell_type": "code",
   "execution_count": null,
   "id": "76207272",
   "metadata": {},
   "outputs": [],
   "source": [
    "np.sum(logical_index)"
   ]
  },
  {
   "cell_type": "markdown",
   "id": "02429909",
   "metadata": {},
   "source": [
    "### Does the front and back TC's line up in x and y?"
   ]
  },
  {
   "cell_type": "code",
   "execution_count": null,
   "id": "16c73327",
   "metadata": {},
   "outputs": [],
   "source": [
    "np.max(tc_locs[idx_mirror_b][:,0]-tc_locs[idx_mirror_f][:,0])"
   ]
  },
  {
   "cell_type": "code",
   "execution_count": null,
   "id": "cc35d90b",
   "metadata": {},
   "outputs": [],
   "source": [
    "np.max(tc_locs[idx_mirror_b][:,1]-tc_locs[idx_mirror_f][:,1])"
   ]
  },
  {
   "cell_type": "code",
   "execution_count": null,
   "id": "8be05e47",
   "metadata": {},
   "outputs": [],
   "source": []
  }
 ],
 "metadata": {
  "kernelspec": {
   "display_name": "Python 3 (ipykernel)",
   "language": "python",
   "name": "python3"
  },
  "language_info": {
   "codemirror_mode": {
    "name": "ipython",
    "version": 3
   },
   "file_extension": ".py",
   "mimetype": "text/x-python",
   "name": "python",
   "nbconvert_exporter": "python",
   "pygments_lexer": "ipython3",
   "version": "3.11.5"
  }
 },
 "nbformat": 4,
 "nbformat_minor": 5
}
