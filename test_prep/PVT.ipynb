{
 "cells": [
  {
   "cell_type": "markdown",
   "id": "0ef54485",
   "metadata": {},
   "source": [
    "The format for PVT is\n",
    "\n",
    "Time X\n",
    "\n",
    "Position at time X in M1S (all 6 degrees of freedom)\n",
    "\n",
    "Velocity at time X in M1S (all 6 degrees of freedom)\n",
    "\n",
    "According to Chris:\n",
    "\n",
    "If Time X is < current time - 5 s then the PVT will be aborted.\n",
    "\n",
    "I will basically send the PVT as \"I want you at this position in 0.5 seconds from now\" and update that at the rate determined by the timestamps. So we will always be aiming at a target 0.5 seconds in the future until we hit the end of the file."
   ]
  },
  {
   "cell_type": "code",
   "execution_count": 1,
   "id": "508cc94e",
   "metadata": {},
   "outputs": [
    {
     "name": "stdout",
     "output_type": "stream",
     "text": [
      "Intel MKL WARNING: Support of Intel(R) Streaming SIMD Extensions 4.2 (Intel(R) SSE4.2) enabled only processors has been deprecated. Intel oneAPI Math Kernel Library 2025.0 will require Intel(R) Advanced Vector Extensions (Intel(R) AVX) instructions.\n",
      "Intel MKL WARNING: Support of Intel(R) Streaming SIMD Extensions 4.2 (Intel(R) SSE4.2) enabled only processors has been deprecated. Intel oneAPI Math Kernel Library 2025.0 will require Intel(R) Advanced Vector Extensions (Intel(R) AVX) instructions.\n",
      "## bending modes & influence matrices etc from Buddy #####################\n",
      "ML actuators =  165 165\n",
      "Afn =  (6991, 165)\n",
      "fv =  (165, 165)\n",
      "U matrix (6991, 165)\n",
      "N node =  6991\n",
      "## bending modes & influence matrices etc from Trupti #####################\n",
      "N actuators =  170\n",
      "/Users/bxin/Library/CloudStorage/OneDrive-SharedLibraries-GMTOCorp/M1S Portal - Documents/influnce_matrix_files/OA_influence_matrices_all/OA_surface_normal_165SA_09Jan2025/\n",
      "Afz =  (27547, 165)\n",
      "U matrix (27547, 165)\n",
      "S matrix (165, 165)\n",
      "V matrix (165, 165)\n",
      "N node =  28789\n",
      "/Users/bxin/Library/CloudStorage/OneDrive-SharedLibraries-GMTOCorp/M1S Portal - Documents/influnce_matrix_files/OA_influence_matrices_all/OA_surface_normal_165SA_XYBM_07Feb2025/\n",
      "Afx =  (27547, 85)\n",
      "Afy =  (27547, 85)\n",
      "number of Mirror Front surface TCs =  48\n",
      "number of Mirror Back surface TCs =  48\n",
      "number of Mirror Middle TCs =  16\n",
      "number of Outer Wall TCs =  36\n",
      "number of Inner Wall TCs =  12\n",
      "number of Upper Plenum TCs =  14\n",
      "number of Lower Plenum TCs =  3\n",
      "number of Cell Weldment TCs =  9\n",
      "number of Ambient Air TCs =  3\n"
     ]
    },
    {
     "data": {
      "text/plain": [
       "<Figure size 640x480 with 0 Axes>"
      ]
     },
     "metadata": {},
     "output_type": "display_data"
    }
   ],
   "source": [
    "import numpy as np\n",
    "import pandas as pd\n",
    "import matplotlib.pyplot as plt\n",
    "plt.jet()\n",
    "\n",
    "import sys\n",
    "sys.path.insert(0, '../')\n",
    "from M1S_tools import *"
   ]
  },
  {
   "cell_type": "markdown",
   "id": "9f1c7c05",
   "metadata": {},
   "source": [
    "### Optical Testing configuration"
   ]
  },
  {
   "cell_type": "code",
   "execution_count": null,
   "id": "0321aa62",
   "metadata": {},
   "outputs": [],
   "source": [
    "omega_arcsec = 0.1\n",
    "arc_length_arcsec = 50\n",
    "time_interval_s = 50"
   ]
  },
  {
   "cell_type": "markdown",
   "id": "b513f35d",
   "metadata": {},
   "source": [
    "### Optical Testing Dryrun configuration"
   ]
  },
  {
   "cell_type": "code",
   "execution_count": 2,
   "id": "820bb786",
   "metadata": {},
   "outputs": [],
   "source": [
    "omega_arcsec = 0.2\n",
    "arc_length_arcsec = 20\n",
    "time_interval_s = 0.1 #10 Hz"
   ]
  },
  {
   "cell_type": "markdown",
   "id": "08dc8694",
   "metadata": {},
   "source": [
    "### Numerical Testing configuration"
   ]
  },
  {
   "cell_type": "code",
   "execution_count": null,
   "id": "b31c08db",
   "metadata": {},
   "outputs": [],
   "source": [
    "#for testing; easier visualization.\n",
    "omega_arcsec = 0.1 *3600 *10 #turn it into 1 deg/s\n",
    "arc_length_arcsec = 50 *3600 /50*360 #turn it into 360 deg\n",
    "time_interval_s = 20"
   ]
  },
  {
   "cell_type": "markdown",
   "id": "a6b3228e",
   "metadata": {},
   "source": [
    "# Start"
   ]
  },
  {
   "cell_type": "code",
   "execution_count": 3,
   "id": "96631b95",
   "metadata": {},
   "outputs": [
    {
     "name": "stdout",
     "output_type": "stream",
     "text": [
      "This will take 1.7 minutes = 100.0 seconds\n",
      "Number of samples in time = 1000\n"
     ]
    }
   ],
   "source": [
    "total_time_s = arc_length_arcsec/omega_arcsec\n",
    "total_time_m = total_time_s/60.\n",
    "n_time = int(total_time_s/time_interval_s)\n",
    "print('This will take %.1f minutes = %.1f seconds'%(total_time_m, total_time_s))\n",
    "print('Number of samples in time = %d'%n_time)\n",
    "\n",
    "omega_rad = omega_arcsec/3600./180*np.pi\n",
    "tt = np.linspace(0,time_interval_s*(n_time-1), n_time) #time vector\n",
    "theta_m1s7 = omega_rad*tt\n",
    "v_mag = r_S1_center_in_S7*omega_rad"
   ]
  },
  {
   "cell_type": "markdown",
   "id": "3f5d4329",
   "metadata": {},
   "source": [
    "### our convention, for all CSs, is the rotations follow the order: do translations. thenRx, then Ry, then Rz\n",
    "\n",
    "### when we say \"a rigid body's position in M1S7 is (0,0,0,0,0,0)\", we need to specify which point on the rigid body is at (0,0,0) and what plane of the rigid body is parallel to the xy plane of the M1S7.\n",
    "\n",
    "### The cell below uses the center of the OPTICAL surface and the plane tangent to the surface at that point. (which may not be what we want to use; see further below)"
   ]
  },
  {
   "cell_type": "code",
   "execution_count": 4,
   "id": "96d2e11a",
   "metadata": {},
   "outputs": [],
   "source": [
    "p_m1s7 = np.zeros((n_time, 6))\n",
    "v_m1s7 = np.zeros((n_time, 6))\n",
    "p_m1b = np.zeros_like(p_m1s7)\n",
    "v_m1b = np.zeros_like(v_m1s7)\n",
    "p_m1s = np.zeros_like(p_m1s7)\n",
    "v_m1s = np.zeros_like(v_m1s7)\n",
    "\n",
    "#just think of this segment as M1S1, whose center is on the +y axis of M1S7 CS.\n",
    "#it would also work if we think of this as M1S2, or M1S3, in the end, the results would be same.\n",
    "#but it is easier to visualize it if the segment center is on the +y axis of M1S7 CS.\n",
    "#let's spin in clockwise direction when viewed from the sky\n",
    "p_m1s7[:,0] = r_S1_center_in_S7*np.sin(theta_m1s7) #x\n",
    "p_m1s7[:,1] = r_S1_center_in_S7*np.cos(theta_m1s7) #y\n",
    "p_m1s7[:,2] = surfFunc(r_S1_center_in_S7**2) #z\n",
    "#Rx, x rotation, how is the segment oriented in m1s7 at this moment in time, \n",
    "#we use the x-y plane of M1S1 as the reference when we define the \"orientation\"\n",
    "p_m1s7[:,3] = np.radians(theta_M1S_deg) #unit is rad\n",
    "p_m1s7[:,4] = 0 #Ry, y rotation\n",
    "p_m1s7[:,5] = -theta_m1s7 #Rz, z rotation\n",
    "\n",
    "v_m1s7[:,0] = v_mag*np.cos(theta_m1s7) #vx\n",
    "v_m1s7[:,1] = -v_mag*np.sin(theta_m1s7) #vy\n",
    "v_m1s7[:,2] = 0 #vz\n",
    "v_m1s7[:,3] = 0 #is Rx changing with time? no\n",
    "v_m1s7[:,4] = 0 #is Ry changing with time? no\n",
    "#is Rz changing with time? yes,\n",
    "v_m1s7[:,5] = -omega_rad # unit is rad/s; Rz is getting more and more negative with t\n",
    "\n",
    "x_m1s1o = p_m1s7[0,:3].copy() #in meter"
   ]
  },
  {
   "cell_type": "markdown",
   "id": "7f9ee2ff",
   "metadata": {},
   "source": [
    "### skip the cell below if the assumption on (0,0,0,0,0,0) above is true.\n",
    "\n",
    "### However, it appears that when Chris says all 6 DOFs are defined in M1S (which IS the GMT official M1S1), he is using the center of the back plate as that point and the back plate as that xy plane. These are used in M1B, i.e., when mirror is at (0,0,0,0,0,0) in M1B, we are referring to the back plate and its center. \n",
    "\n",
    "### so, below, we change the reference point and plane to the back plate"
   ]
  },
  {
   "cell_type": "code",
   "execution_count": 5,
   "id": "216a0f3b",
   "metadata": {},
   "outputs": [],
   "source": [
    "## use meters and radians everywhere...\n",
    "#x_m1s1o = p_m1s7[0,:3]\n",
    "x_m1b1o = np.array([0, 8818.625, 602.002])/1000. #m1b1 origin in m1s7\n",
    "#R_m1b1 = np.array([[-1,0,0], [0, 0.9723, 0.2338], [0,0.2338, -0.9723]])\n",
    "cb = np.cos(np.radians(theta_M1B_deg))\n",
    "sb = np.sin(np.radians(theta_M1B_deg))\n",
    "R_m1b1 = np.array([[-1,0,0], [0, cb, sb], [0,sb, -cb]])\n",
    "def T_m1b1(x): #transform a point \n",
    "    return R_m1b1@ (x-x_m1b1o)\n",
    "def T_m1b1_vec(x): #transform a vector\n",
    "    return T_m1b1(x) - T_m1b1(np.array([0,0,0]))\n",
    "def T_m1b1_rot(x): #transform a rotation (orientation)\n",
    "    #the 1st term below gives you the rotation, which is represented by Rx. \n",
    "    #we want the orientation, which is why we need the 2nd term, to define a starting position of that Rx motion.\n",
    "    return T_m1b1_vec(x) - np.array([np.radians(theta_M1B_deg), 0, 0])"
   ]
  },
  {
   "cell_type": "code",
   "execution_count": 6,
   "id": "b28a598b",
   "metadata": {},
   "outputs": [
    {
     "data": {
      "text/plain": [
       "array([-4.330127  , -4.179865  , -9.64262002])"
      ]
     },
     "execution_count": 6,
     "metadata": {},
     "output_type": "execute_result"
    }
   ],
   "source": [
    "#this is a test vector from DOC-1118\n",
    "x_tst1 = np.array([4330.127, 2500, 9000])/1000 #x,y,z in M1S7\n",
    "#x,y,z in M1B1 should be [−4330.127, −4179.865, −9642.620]\n",
    "T_m1b1(x_tst1)"
   ]
  },
  {
   "cell_type": "code",
   "execution_count": 7,
   "id": "a8989734",
   "metadata": {},
   "outputs": [],
   "source": [
    "#x_m1s1o is S1 optical surface center in M1S7\n",
    "#aa is S1 optical surface center in M1B1\n",
    "#aa[2] is glass thickness at S1 center\n",
    "aa = T_m1b1(x_m1s1o)\n",
    "glass_thickness = -aa[2]"
   ]
  },
  {
   "cell_type": "code",
   "execution_count": 8,
   "id": "c755e2f4",
   "metadata": {},
   "outputs": [],
   "source": [
    "#redefine p and v in m1s7 using the new reference point and reference plane\n",
    "r_S1_bp_center_in_S7 = r_S1_center_in_S7+glass_thickness*np.sin(np.radians(theta_M1B_deg))\n",
    "v_mag = r_S1_bp_center_in_S7*omega_rad\n",
    "p_m1s7[:,0] = r_S1_bp_center_in_S7*np.sin(theta_m1s7) #x\n",
    "p_m1s7[:,1] = r_S1_bp_center_in_S7*np.cos(theta_m1s7) #y\n",
    "p_m1s7[:,2] = surfFunc(r_S1_center_in_S7**2)-glass_thickness*np.cos(np.radians(theta_M1B_deg)) #z\n",
    "#Rx, x rotation, how is the segment oriented in m1s7 at this moment in time, \n",
    "#we use the x-y plane of M1B as the reference when we define the \"orientation\"\n",
    "p_m1s7[:,3] = np.radians(theta_M1B_deg) #unit is rad\n",
    "p_m1s7[:,4] = 0 #Ry, y rotation\n",
    "p_m1s7[:,5] = -theta_m1s7 #Rz, z rotation\n",
    "\n",
    "v_m1s7[:,0] = v_mag*np.cos(theta_m1s7) #vx\n",
    "v_m1s7[:,1] = -v_mag*np.sin(theta_m1s7) #vy\n",
    "v_m1s7[:,2] = 0 #vz\n",
    "v_m1s7[:,3] = 0 #is Rx changing with time? no\n",
    "v_m1s7[:,4] = 0 #is Ry changing with time? no\n",
    "#is Rz changing with time? yes,\n",
    "v_m1s7[:,5] = -omega_rad # unit is rad/s; Rz is getting more and more negative with t"
   ]
  },
  {
   "cell_type": "code",
   "execution_count": 9,
   "id": "1ca6fe84",
   "metadata": {},
   "outputs": [
    {
     "data": {
      "image/png": "[encoded data removed]",
      "text/plain": [
       "<Figure size 640x480 with 1 Axes>"
      ]
     },
     "metadata": {},
     "output_type": "display_data"
    }
   ],
   "source": [
    "#here we make a plot of the position trajectory. \n",
    "# this plot makes more sense if this is for the test configuraiton (360 deg rotation)\n",
    "#plt.plot(p_m1s7[:,0], p_m1s7[:,1],'-o')\n",
    "plt.quiver(p_m1s7[:,0], p_m1s7[:,1], v_m1s7[:,0], v_m1s7[:,1])\n",
    "plt.plot(0,0,'o')\n",
    "plt.axis('equal')\n",
    "plt.grid();\n",
    "#for Numerical testing configuration, we should see a circle."
   ]
  },
  {
   "cell_type": "markdown",
   "id": "79cb5a4f",
   "metadata": {},
   "source": [
    "#### we need to transform these from M1S7 CS to M1B1 CS. (actually, we need M1S1, not M1B1; but this was done before I understood that)\n",
    "\n",
    "# Ignore this section - this is transforming into M1B1, not M1S1."
   ]
  },
  {
   "cell_type": "code",
   "execution_count": null,
   "id": "731590b2",
   "metadata": {},
   "outputs": [],
   "source": [
    "print(v_m1s7.shape)\n",
    "v_m1s7_tst = v_m1s7[9,:3] #for Numerical testing config, this is after 180 deg rotation\n",
    "print(v_m1s7_tst) #for Numerical tsting config, the vector has been reversed in x (compared to t=0)\n",
    "#we know this is wrong for a vector. The large y component below verifies it is wrong\n",
    "print('wrong: ', T_m1b1(v_m1s7_tst)) \n",
    "print(T_m1b1_vec(v_m1s7_tst)) #another negative sign added, because +x in M1S7 CS is -x in M1B1"
   ]
  },
  {
   "cell_type": "code",
   "execution_count": null,
   "id": "87bd6b1b",
   "metadata": {},
   "outputs": [],
   "source": [
    "print(v_m1s7.shape)\n",
    "R_m1s7_tst0 = v_m1s7[0,3:] #for Numerical testing config, this is t=0\n",
    "print(R_m1s7_tst0) \n",
    "print(T_m1b1_vec(R_m1s7_tst0)) #for Numerical tsting config, the Rz vector has been decomposed into Ry & Rz\n",
    "\n",
    "R_m1s7_tst1 = v_m1s7[9,3:] #for Numerical testing config, this is after 180 deg rotation\n",
    "print(R_m1s7_tst1) #for Numerical tsting config, the vector remains same (compared to t=0)\n",
    "print(T_m1b1_vec(R_m1s7_tst1)) #for Numerical tsting config, the vector remains unchanged"
   ]
  },
  {
   "cell_type": "code",
   "execution_count": null,
   "id": "508dc1d8",
   "metadata": {},
   "outputs": [],
   "source": [
    "#We could make theta_B a variable\n",
    "#if theta_B = 0, check Rz transformation. \n",
    "#this is not done yet\n",
    "#yes, in principle, even the order of Rx, Ry, Rz matters, but we are dealing with a simplified case where Rx = Ry = 0.\n",
    "# the rotation vector should follow R' = T R? ChatGPT says yes it works"
   ]
  },
  {
   "cell_type": "code",
   "execution_count": null,
   "id": "0f6d5e3a",
   "metadata": {},
   "outputs": [],
   "source": [
    "for i in range(n_time):\n",
    "    p_m1b[i,:3] = T_m1b1(p_m1s7[i,:3])\n",
    "    v_m1b[i,:3] = T_m1b1_vec(v_m1s7[i,:3])\n",
    "    p_m1b[i,3:] = T_m1b1_vec(p_m1s7[i,3:])\n",
    "    v_m1b[i,3:] = T_m1b1_vec(v_m1s7[i,3:])"
   ]
  },
  {
   "cell_type": "markdown",
   "id": "482cade4",
   "metadata": {},
   "source": [
    "#### If you lie down on the floor at ML, feet toward parent center (or M2 interferometer), mirror will move to your lower left. \n",
    "\n",
    "### In M1S1 and M1S7, we will start with a +x, -y, -Rz motion. That is my prediction. Let's check the math"
   ]
  },
  {
   "cell_type": "markdown",
   "id": "bcf82ca5",
   "metadata": {},
   "source": [
    "#### we need to transform these from M1S7 CS to M1S1 CS."
   ]
  },
  {
   "cell_type": "code",
   "execution_count": 10,
   "id": "227790a0",
   "metadata": {},
   "outputs": [],
   "source": [
    "## use meters and radians everywhere...\n",
    "#R_m1s1 = np.array([[1,0,0], [0, 0.9720, 0.2352], [0,-0.2352, 0.9720]])\n",
    "cb = np.cos(np.radians(theta_M1S_deg))\n",
    "sb = np.sin(np.radians(theta_M1S_deg))\n",
    "R_m1s1 = np.array([[1,0,0], [0, cb, sb], [0,-sb, cb]])\n",
    "def T_m1s1(x): #transform a point (x,y,z)\n",
    "    return R_m1s1@ (x-x_m1s1o)\n",
    "def T_m1s1_vec(x): #transform a vector\n",
    "    return T_m1s1(x) - T_m1s1(np.array([0,0,0]))\n",
    "    #return R_m1s1@ x\n",
    "def T_m1s1_rot(x): #transform a rotation (orientation)\n",
    "    #the 1st term below gives you the rotation, which is represented by Rx. \n",
    "    #we want the orientation, which is why we need the 2nd term, to define a starting position of that Rx motion.\n",
    "    return T_m1s1_vec(x) - np.array([np.radians(theta_M1S_deg), 0, 0])"
   ]
  },
  {
   "cell_type": "code",
   "execution_count": 11,
   "id": "c9a92ef1",
   "metadata": {},
   "outputs": [
    {
     "data": {
      "text/plain": [
       "array([ 4.330127  , -4.16709666,  9.18385413])"
      ]
     },
     "execution_count": 11,
     "metadata": {},
     "output_type": "execute_result"
    }
   ],
   "source": [
    "#this is a test vector from DOC-1118\n",
    "x_tst1 = np.array([4330.127, 2500, 9000])/1000 #x,y,z in M1S7\n",
    "#x,y,z in M1S1 should be [−4330.127, −4167.097, 9183.855]\n",
    "T_m1s1(x_tst1)"
   ]
  },
  {
   "cell_type": "markdown",
   "id": "bbf34a39",
   "metadata": {},
   "source": [
    "## Get the vectors in M1S"
   ]
  },
  {
   "cell_type": "code",
   "execution_count": 12,
   "id": "15e616e8",
   "metadata": {},
   "outputs": [],
   "source": [
    "for i in range(n_time):\n",
    "    p_m1s[i,:3] = T_m1s1(p_m1s7[i,:3]) #position x,y,z\n",
    "    v_m1s[i,:3] = T_m1s1_vec(v_m1s7[i,:3]) #velocity vector\n",
    "    p_m1s[i,3:] = T_m1s1_rot(p_m1s7[i,3:]) #position rx,ry,rz\n",
    "    v_m1s[i,3:] = T_m1s1_vec(v_m1s7[i,3:]) #angular velocity vector"
   ]
  },
  {
   "cell_type": "code",
   "execution_count": 13,
   "id": "a9ccc188",
   "metadata": {},
   "outputs": [
    {
     "data": {
      "text/plain": [
       "1000"
      ]
     },
     "execution_count": 13,
     "metadata": {},
     "output_type": "execute_result"
    }
   ],
   "source": [
    "len(tt)"
   ]
  },
  {
   "cell_type": "code",
   "execution_count": 14,
   "id": "0970ecd6",
   "metadata": {},
   "outputs": [],
   "source": [
    "data = {}\n",
    "data['time (s)'] = np.round(tt,2)\n",
    "data_labels = ['position_x (m)', 'position_y (m)', 'position_z (m)', \n",
    "               'position_rx (rad)', 'position_ry (rad)', 'position_rz (rad)',\n",
    "               'velocity_x (m/s)', 'velocity_y (m/s)', 'velocity_z (m/s)', \n",
    "               'velocity_rx (rad/s)', 'velocity_ry (rad/s)', 'velocity_rz (rad/s)']\n",
    "for i in range(6):\n",
    "    data[data_labels[i]] = p_m1s[:,i]\n",
    "for i in range(6):\n",
    "    data[data_labels[i+6]] = v_m1s[:,i]\n",
    "df1 = pd.DataFrame(data)\n",
    "df1.to_csv('../test_input_data/PVTTests.csv', index=False)"
   ]
  },
  {
   "cell_type": "code",
   "execution_count": 15,
   "id": "2737d572",
   "metadata": {},
   "outputs": [
    {
     "data": {
      "text/html": [
       "<div>\n",
       "<style scoped>\n",
       "    .dataframe tbody tr th:only-of-type {\n",
       "        vertical-align: middle;\n",
       "    }\n",
       "\n",
       "    .dataframe tbody tr th {\n",
       "        vertical-align: top;\n",
       "    }\n",
       "\n",
       "    .dataframe thead th {\n",
       "        text-align: right;\n",
       "    }\n",
       "</style>\n",
       "<table border=\"1\" class=\"dataframe\">\n",
       "  <thead>\n",
       "    <tr style=\"text-align: right;\">\n",
       "      <th></th>\n",
       "      <th>time (s)</th>\n",
       "      <th>position_x (m)</th>\n",
       "      <th>position_y (m)</th>\n",
       "      <th>position_z (m)</th>\n",
       "      <th>position_rx (rad)</th>\n",
       "      <th>position_ry (rad)</th>\n",
       "      <th>position_rz (rad)</th>\n",
       "      <th>velocity_x (m/s)</th>\n",
       "      <th>velocity_y (m/s)</th>\n",
       "      <th>velocity_z (m/s)</th>\n",
       "      <th>velocity_rx (rad/s)</th>\n",
       "      <th>velocity_ry (rad/s)</th>\n",
       "      <th>velocity_rz (rad/s)</th>\n",
       "    </tr>\n",
       "  </thead>\n",
       "  <tbody>\n",
       "    <tr>\n",
       "      <th>0</th>\n",
       "      <td>0.0</td>\n",
       "      <td>0.000000e+00</td>\n",
       "      <td>-0.000646</td>\n",
       "      <td>-0.46457</td>\n",
       "      <td>-0.001391</td>\n",
       "      <td>0.000000e+00</td>\n",
       "      <td>0.000000e+00</td>\n",
       "      <td>0.000009</td>\n",
       "      <td>0.000000e+00</td>\n",
       "      <td>0.000000e+00</td>\n",
       "      <td>0.0</td>\n",
       "      <td>-2.280279e-07</td>\n",
       "      <td>-9.424333e-07</td>\n",
       "    </tr>\n",
       "    <tr>\n",
       "      <th>1</th>\n",
       "      <td>0.1</td>\n",
       "      <td>8.550780e-07</td>\n",
       "      <td>-0.000646</td>\n",
       "      <td>-0.46457</td>\n",
       "      <td>-0.001391</td>\n",
       "      <td>-2.280279e-08</td>\n",
       "      <td>-9.424333e-08</td>\n",
       "      <td>0.000009</td>\n",
       "      <td>-8.064660e-13</td>\n",
       "      <td>1.949552e-13</td>\n",
       "      <td>0.0</td>\n",
       "      <td>-2.280279e-07</td>\n",
       "      <td>-9.424333e-07</td>\n",
       "    </tr>\n",
       "    <tr>\n",
       "      <th>2</th>\n",
       "      <td>0.2</td>\n",
       "      <td>1.710156e-06</td>\n",
       "      <td>-0.000646</td>\n",
       "      <td>-0.46457</td>\n",
       "      <td>-0.001391</td>\n",
       "      <td>-4.560559e-08</td>\n",
       "      <td>-1.884867e-07</td>\n",
       "      <td>0.000009</td>\n",
       "      <td>-1.611156e-12</td>\n",
       "      <td>3.899103e-13</td>\n",
       "      <td>0.0</td>\n",
       "      <td>-2.280279e-07</td>\n",
       "      <td>-9.424333e-07</td>\n",
       "    </tr>\n",
       "    <tr>\n",
       "      <th>3</th>\n",
       "      <td>0.3</td>\n",
       "      <td>2.565234e-06</td>\n",
       "      <td>-0.000646</td>\n",
       "      <td>-0.46457</td>\n",
       "      <td>-0.001391</td>\n",
       "      <td>-6.840838e-08</td>\n",
       "      <td>-2.827300e-07</td>\n",
       "      <td>0.000009</td>\n",
       "      <td>-2.417622e-12</td>\n",
       "      <td>5.848655e-13</td>\n",
       "      <td>0.0</td>\n",
       "      <td>-2.280279e-07</td>\n",
       "      <td>-9.424333e-07</td>\n",
       "    </tr>\n",
       "    <tr>\n",
       "      <th>4</th>\n",
       "      <td>0.4</td>\n",
       "      <td>3.420312e-06</td>\n",
       "      <td>-0.000646</td>\n",
       "      <td>-0.46457</td>\n",
       "      <td>-0.001391</td>\n",
       "      <td>-9.121118e-08</td>\n",
       "      <td>-3.769733e-07</td>\n",
       "      <td>0.000009</td>\n",
       "      <td>-3.224088e-12</td>\n",
       "      <td>7.798207e-13</td>\n",
       "      <td>0.0</td>\n",
       "      <td>-2.280279e-07</td>\n",
       "      <td>-9.424333e-07</td>\n",
       "    </tr>\n",
       "    <tr>\n",
       "      <th>...</th>\n",
       "      <td>...</td>\n",
       "      <td>...</td>\n",
       "      <td>...</td>\n",
       "      <td>...</td>\n",
       "      <td>...</td>\n",
       "      <td>...</td>\n",
       "      <td>...</td>\n",
       "      <td>...</td>\n",
       "      <td>...</td>\n",
       "      <td>...</td>\n",
       "      <td>...</td>\n",
       "      <td>...</td>\n",
       "      <td>...</td>\n",
       "    </tr>\n",
       "    <tr>\n",
       "      <th>995</th>\n",
       "      <td>99.5</td>\n",
       "      <td>8.508026e-04</td>\n",
       "      <td>-0.000646</td>\n",
       "      <td>-0.46457</td>\n",
       "      <td>-0.001391</td>\n",
       "      <td>-2.268878e-05</td>\n",
       "      <td>-9.377211e-05</td>\n",
       "      <td>0.000009</td>\n",
       "      <td>-8.018262e-10</td>\n",
       "      <td>1.940066e-10</td>\n",
       "      <td>0.0</td>\n",
       "      <td>-2.280279e-07</td>\n",
       "      <td>-9.424333e-07</td>\n",
       "    </tr>\n",
       "    <tr>\n",
       "      <th>996</th>\n",
       "      <td>99.6</td>\n",
       "      <td>8.516577e-04</td>\n",
       "      <td>-0.000646</td>\n",
       "      <td>-0.46457</td>\n",
       "      <td>-0.001391</td>\n",
       "      <td>-2.271158e-05</td>\n",
       "      <td>-9.386635e-05</td>\n",
       "      <td>0.000009</td>\n",
       "      <td>-8.026309e-10</td>\n",
       "      <td>1.942020e-10</td>\n",
       "      <td>0.0</td>\n",
       "      <td>-2.280279e-07</td>\n",
       "      <td>-9.424333e-07</td>\n",
       "    </tr>\n",
       "    <tr>\n",
       "      <th>997</th>\n",
       "      <td>99.7</td>\n",
       "      <td>8.525128e-04</td>\n",
       "      <td>-0.000646</td>\n",
       "      <td>-0.46457</td>\n",
       "      <td>-0.001391</td>\n",
       "      <td>-2.273439e-05</td>\n",
       "      <td>-9.396060e-05</td>\n",
       "      <td>0.000009</td>\n",
       "      <td>-8.034373e-10</td>\n",
       "      <td>1.943969e-10</td>\n",
       "      <td>0.0</td>\n",
       "      <td>-2.280279e-07</td>\n",
       "      <td>-9.424333e-07</td>\n",
       "    </tr>\n",
       "    <tr>\n",
       "      <th>998</th>\n",
       "      <td>99.8</td>\n",
       "      <td>8.533679e-04</td>\n",
       "      <td>-0.000646</td>\n",
       "      <td>-0.46457</td>\n",
       "      <td>-0.001391</td>\n",
       "      <td>-2.275719e-05</td>\n",
       "      <td>-9.405484e-05</td>\n",
       "      <td>0.000009</td>\n",
       "      <td>-8.042420e-10</td>\n",
       "      <td>1.945915e-10</td>\n",
       "      <td>0.0</td>\n",
       "      <td>-2.280279e-07</td>\n",
       "      <td>-9.424333e-07</td>\n",
       "    </tr>\n",
       "    <tr>\n",
       "      <th>999</th>\n",
       "      <td>99.9</td>\n",
       "      <td>8.542230e-04</td>\n",
       "      <td>-0.000646</td>\n",
       "      <td>-0.46457</td>\n",
       "      <td>-0.001391</td>\n",
       "      <td>-2.277999e-05</td>\n",
       "      <td>-9.414908e-05</td>\n",
       "      <td>0.000009</td>\n",
       "      <td>-8.050485e-10</td>\n",
       "      <td>1.947869e-10</td>\n",
       "      <td>0.0</td>\n",
       "      <td>-2.280279e-07</td>\n",
       "      <td>-9.424333e-07</td>\n",
       "    </tr>\n",
       "  </tbody>\n",
       "</table>\n",
       "<p>1000 rows × 13 columns</p>\n",
       "</div>"
      ],
      "text/plain": [
       "     time (s)  position_x (m)  position_y (m)  position_z (m)  \\\n",
       "0         0.0    0.000000e+00       -0.000646        -0.46457   \n",
       "1         0.1    8.550780e-07       -0.000646        -0.46457   \n",
       "2         0.2    1.710156e-06       -0.000646        -0.46457   \n",
       "3         0.3    2.565234e-06       -0.000646        -0.46457   \n",
       "4         0.4    3.420312e-06       -0.000646        -0.46457   \n",
       "..        ...             ...             ...             ...   \n",
       "995      99.5    8.508026e-04       -0.000646        -0.46457   \n",
       "996      99.6    8.516577e-04       -0.000646        -0.46457   \n",
       "997      99.7    8.525128e-04       -0.000646        -0.46457   \n",
       "998      99.8    8.533679e-04       -0.000646        -0.46457   \n",
       "999      99.9    8.542230e-04       -0.000646        -0.46457   \n",
       "\n",
       "     position_rx (rad)  position_ry (rad)  position_rz (rad)  \\\n",
       "0            -0.001391       0.000000e+00       0.000000e+00   \n",
       "1            -0.001391      -2.280279e-08      -9.424333e-08   \n",
       "2            -0.001391      -4.560559e-08      -1.884867e-07   \n",
       "3            -0.001391      -6.840838e-08      -2.827300e-07   \n",
       "4            -0.001391      -9.121118e-08      -3.769733e-07   \n",
       "..                 ...                ...                ...   \n",
       "995          -0.001391      -2.268878e-05      -9.377211e-05   \n",
       "996          -0.001391      -2.271158e-05      -9.386635e-05   \n",
       "997          -0.001391      -2.273439e-05      -9.396060e-05   \n",
       "998          -0.001391      -2.275719e-05      -9.405484e-05   \n",
       "999          -0.001391      -2.277999e-05      -9.414908e-05   \n",
       "\n",
       "     velocity_x (m/s)  velocity_y (m/s)  velocity_z (m/s)  \\\n",
       "0            0.000009      0.000000e+00      0.000000e+00   \n",
       "1            0.000009     -8.064660e-13      1.949552e-13   \n",
       "2            0.000009     -1.611156e-12      3.899103e-13   \n",
       "3            0.000009     -2.417622e-12      5.848655e-13   \n",
       "4            0.000009     -3.224088e-12      7.798207e-13   \n",
       "..                ...               ...               ...   \n",
       "995          0.000009     -8.018262e-10      1.940066e-10   \n",
       "996          0.000009     -8.026309e-10      1.942020e-10   \n",
       "997          0.000009     -8.034373e-10      1.943969e-10   \n",
       "998          0.000009     -8.042420e-10      1.945915e-10   \n",
       "999          0.000009     -8.050485e-10      1.947869e-10   \n",
       "\n",
       "     velocity_rx (rad/s)  velocity_ry (rad/s)  velocity_rz (rad/s)  \n",
       "0                    0.0        -2.280279e-07        -9.424333e-07  \n",
       "1                    0.0        -2.280279e-07        -9.424333e-07  \n",
       "2                    0.0        -2.280279e-07        -9.424333e-07  \n",
       "3                    0.0        -2.280279e-07        -9.424333e-07  \n",
       "4                    0.0        -2.280279e-07        -9.424333e-07  \n",
       "..                   ...                  ...                  ...  \n",
       "995                  0.0        -2.280279e-07        -9.424333e-07  \n",
       "996                  0.0        -2.280279e-07        -9.424333e-07  \n",
       "997                  0.0        -2.280279e-07        -9.424333e-07  \n",
       "998                  0.0        -2.280279e-07        -9.424333e-07  \n",
       "999                  0.0        -2.280279e-07        -9.424333e-07  \n",
       "\n",
       "[1000 rows x 13 columns]"
      ]
     },
     "execution_count": 15,
     "metadata": {},
     "output_type": "execute_result"
    }
   ],
   "source": [
    "df1"
   ]
  },
  {
   "cell_type": "code",
   "execution_count": null,
   "id": "599cf2cb",
   "metadata": {},
   "outputs": [],
   "source": []
  },
  {
   "cell_type": "markdown",
   "id": "73f578bd",
   "metadata": {},
   "source": [
    "### Related, but not part of the PVT trajectory generation\n",
    "\n",
    "## If RFCML tells us to do a radial shift of 1mm, what is our RB command? \n",
    "\n",
    "Note: Buddy decided to do this transform for us and give us the RB commands. So this was not used during testing."
   ]
  },
  {
   "cell_type": "code",
   "execution_count": 31,
   "id": "416c8fe6",
   "metadata": {},
   "outputs": [
    {
     "name": "stdout",
     "output_type": "stream",
     "text": [
      "[0, 0.001, 0.00024197047379637127] [ 0.00000000e+00  1.02885744e-03 -1.44439371e-06]\n",
      "[2.8628424443372102e-05, 0, 0] [-2.86284244e-05  0.00000000e+00  0.00000000e+00]\n"
     ]
    }
   ],
   "source": [
    "radial_shift = 0.001 #unit=meter\n",
    "dx_m1s7 = 0\n",
    "dy_m1s7 = radial_shift\n",
    "dz_m1s7 = surfFunc((r_S1_center_in_S7+radial_shift)**2)-surfFunc(r_S1_center_in_S7**2)\n",
    "rx_m1s7 = np.arcsin((r_S1_center_in_S7+radial_shift)/radius_of_curvature)-np.arcsin(r_S1_center_in_S7/radius_of_curvature)\n",
    "ry_m1s7 = 0\n",
    "rz_m1s7 = 0\n",
    "\n",
    "rb = np.zeros(6)\n",
    "rb[:3] = T_m1b1_vec([dx_m1s7, dy_m1s7, dz_m1s7])\n",
    "rb[3:] = T_m1b1_vec([rx_m1s7, ry_m1s7, rz_m1s7])\n",
    "print([dx_m1s7, dy_m1s7, dz_m1s7], rb[:3])\n",
    "print([rx_m1s7, ry_m1s7, rz_m1s7], rb[3:])"
   ]
  },
  {
   "cell_type": "code",
   "execution_count": 22,
   "id": "dc22e0ba",
   "metadata": {},
   "outputs": [
    {
     "data": {
      "text/plain": [
       "14.001331508886057"
      ]
     },
     "execution_count": 22,
     "metadata": {},
     "output_type": "execute_result"
    }
   ],
   "source": [
    "#hmm.. this is a bit different from theta_M1S_deg. due to the aspheric departure??\n",
    "np.rad2deg(np.arcsin(r_S1_center_in_S7/radius_of_curvature))"
   ]
  },
  {
   "cell_type": "code",
   "execution_count": 40,
   "id": "e721b97a",
   "metadata": {},
   "outputs": [
    {
     "data": {
      "text/plain": [
       "0.001028510081270468"
      ]
     },
     "execution_count": 40,
     "metadata": {},
     "output_type": "execute_result"
    }
   ],
   "source": [
    "# prediction of y\n",
    "radial_shift/np.cos(np.radians(theta_M1B_deg))"
   ]
  },
  {
   "cell_type": "code",
   "execution_count": 39,
   "id": "7d189f47",
   "metadata": {},
   "outputs": [
    {
     "data": {
      "text/plain": [
       "1.485573490791277e-06"
      ]
     },
     "execution_count": 39,
     "metadata": {},
     "output_type": "execute_result"
    }
   ],
   "source": [
    "#prediction of dz\n",
    "dz_m1s7-radial_shift*np.tan(np.radians(theta_M1B_deg))"
   ]
  },
  {
   "cell_type": "code",
   "execution_count": 21,
   "id": "23ac311f",
   "metadata": {},
   "outputs": [
    {
     "data": {
      "text/plain": [
       "36.0"
      ]
     },
     "execution_count": 21,
     "metadata": {},
     "output_type": "execute_result"
    }
   ],
   "source": [
    "radius_of_curvature"
   ]
  }
 ],
 "metadata": {
  "kernelspec": {
   "display_name": "Python 3 (ipykernel)",
   "language": "python",
   "name": "python3"
  },
  "language_info": {
   "codemirror_mode": {
    "name": "ipython",
    "version": 3
   },
   "file_extension": ".py",
   "mimetype": "text/x-python",
   "name": "python",
   "nbconvert_exporter": "python",
   "pygments_lexer": "ipython3",
   "version": "3.11.5"
  }
 },
 "nbformat": 4,
 "nbformat_minor": 5
}
