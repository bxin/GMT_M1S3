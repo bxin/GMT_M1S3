{
 "cells": [
  {
   "cell_type": "markdown",
   "id": "ca50f94a",
   "metadata": {},
   "source": [
    "Buddy needs these 3 files:\n",
    "\n",
    "nodeCoords.mat contains x, y, both in mm.\n",
    "\n",
    "actCoords.mat contains xAct, yAct, both in mm. \n",
    "\n",
    "SVD.mat contains the matrices U, S, V produced by the Matlab function "
   ]
  },
  {
   "cell_type": "code",
   "execution_count": 18,
   "id": "b605d79a",
   "metadata": {},
   "outputs": [
    {
     "data": {
      "text/plain": [
       "<Figure size 640x480 with 0 Axes>"
      ]
     },
     "metadata": {},
     "output_type": "display_data"
    }
   ],
   "source": [
    "import numpy as np\n",
    "import pandas as pd\n",
    "import scipy.io\n",
    "\n",
    "import matplotlib.pyplot as plt\n",
    "import sys\n",
    "sys.path.insert(0, '../')\n",
    "from M1S_tools import *\n",
    "\n",
    "plt.jet()\n",
    "\n",
    "%matplotlib inline\n",
    "\n",
    "from scipy.io import savemat"
   ]
  },
  {
   "cell_type": "markdown",
   "id": "3316c39f",
   "metadata": {},
   "source": [
    "### actCoords.mat first"
   ]
  },
  {
   "cell_type": "code",
   "execution_count": 22,
   "id": "1b67d366",
   "metadata": {},
   "outputs": [
    {
     "name": "stdout",
     "output_type": "stream",
     "text": [
      "ML actuators =  165 165\n"
     ]
    }
   ],
   "source": [
    "#Buddy provided these files right before OT started.\n",
    "#most like they are identical to what he provided in 2023. But let's read these latest files, just to be sure\n",
    "dataFolder = '/Users/bxin/Library/CloudStorage/OneDrive-SharedLibraries-GMTOCorp/M1S Portal - Documents/'\n",
    "\n",
    "Jan25MLFolder = 'M1 Testing/RFCML Optical Testing/Mirror Lab bending modes/'\n",
    "\n",
    "#read SA data\n",
    "dfSA = scipy.io.loadmat(dataFolder+Jan25MLFolder+'/actCoords.mat')\n",
    "sax_ml = dfSA['yAct']/1e3 #turn into meter #swap x/y to get to M1B (M1DCS uses M1B!!!)\n",
    "say_ml = dfSA['xAct']/1e3 #turn into meter\n",
    "print('ML actuators = ', len(sax_ml), len(say_ml))\n"
   ]
  },
  {
   "cell_type": "code",
   "execution_count": 3,
   "id": "f428e02c",
   "metadata": {},
   "outputs": [],
   "source": [
    "def gmtActXY2mlActXY(gmtFvec):\n",
    "    '''\n",
    "    convert a GMT force vector (170x1) into a ML force vector (165x1)\n",
    "    input:\n",
    "        gmtFvec: GMT force vector (170x1)\n",
    "    output:\n",
    "        mlFvec: ML force vector (165x1)\n",
    "    '''\n",
    "    mlFvec = np.zeros(nact_ml)\n",
    "    for i in range(nact_ml):\n",
    "        idx = np.where(saID==(saID_ml[i]))[0]\n",
    "        if len(idx) == 1:\n",
    "            mlFvec[i] = gmtFvec[idx]\n",
    "        if saID_ml[i]>1e6:\n",
    "            idx1 = np.where(saID==(saID_ml[i]%1e6))[0] #e.g. saID_ml can be 144001144\n",
    "            idx2 = np.where(saID==(saID_ml[i]//1e6))[0]\n",
    "            if len(idx1) == 1:\n",
    "                mlFvec[i] += gmtFvec[idx1]\n",
    "            if len(idx2) == 1:\n",
    "                mlFvec[i] += gmtFvec[idx2]\n",
    "            mlFvec[i] /= 2\n",
    "    return mlFvec"
   ]
  },
  {
   "cell_type": "code",
   "execution_count": 4,
   "id": "9b1c25f8",
   "metadata": {},
   "outputs": [],
   "source": [
    "#we need to turn our 170 y values into ML 165 x values; also ML uses mm while we use meter.\n",
    "xAct = gmtActXY2mlActXY(say)*1e3 \n",
    "yAct = gmtActXY2mlActXY(sax)*1e3"
   ]
  },
  {
   "cell_type": "code",
   "execution_count": 5,
   "id": "930f9ef4",
   "metadata": {},
   "outputs": [
    {
     "data": {
      "text/plain": [
       "(array([ 3691.783,   996.957, -3693.202]),\n",
       " array([[ 3692.52246 ],\n",
       "        [  997.693458],\n",
       "        [-3692.46658 ]]),\n",
       " (165, 1))"
      ]
     },
     "execution_count": 5,
     "metadata": {},
     "output_type": "execute_result"
    }
   ],
   "source": [
    "xAct[:3], dfSA['xAct'][:3], np.array(dfSA['xAct']).shape"
   ]
  },
  {
   "cell_type": "code",
   "execution_count": 6,
   "id": "76479f56",
   "metadata": {},
   "outputs": [
    {
     "name": "stdout",
     "output_type": "stream",
     "text": [
      "which actuator's locations diff?\n"
     ]
    },
    {
     "data": {
      "text/plain": [
       "array([1412., 1112., 1312., 1212.])"
      ]
     },
     "execution_count": 6,
     "metadata": {},
     "output_type": "execute_result"
    },
    {
     "data": {
      "image/png": "[encoded data removed]",
      "text/plain": [
       "<Figure size 640x480 with 1 Axes>"
      ]
     },
     "metadata": {},
     "output_type": "display_data"
    }
   ],
   "source": [
    "diffx = np.squeeze(np.array(dfSA['xAct']))-xAct\n",
    "diffy = np.squeeze(np.array(dfSA['yAct']))-yAct\n",
    "plt.plot(diffx, label='diff in ML x')\n",
    "plt.plot(diffy, label='diff in ML y')\n",
    "plt.legend()\n",
    "plt.ylabel('mm')\n",
    "plt.xlabel('ML Act ordering')\n",
    "print('which actuator\\'s locations diff?')\n",
    "saID_ml[abs(diffx)>5]\n",
    "#yes, this agrees with what we observed before."
   ]
  },
  {
   "cell_type": "markdown",
   "id": "412e4895",
   "metadata": {},
   "source": [
    "### wait, I don't think we want to reorder the actuators to match ML. as long as we are self-consistent."
   ]
  },
  {
   "cell_type": "code",
   "execution_count": 7,
   "id": "2fd634ef",
   "metadata": {},
   "outputs": [
    {
     "name": "stdout",
     "output_type": "stream",
     "text": [
      "(170, 1)\n"
     ]
    }
   ],
   "source": [
    "xAct = say.reshape(-1,1)*1e3 #make them 170x1 instead of 1x170, to be consistent with Buddy's mat files.\n",
    "yAct = sax.reshape(-1,1)*1e3\n",
    "print(xAct.shape)"
   ]
  },
  {
   "cell_type": "code",
   "execution_count": 8,
   "id": "6bb00db0",
   "metadata": {},
   "outputs": [],
   "source": [
    "data = {'xAct': xAct, 'yAct': yAct}\n",
    "savemat('actCoords_GMT.mat', data)"
   ]
  },
  {
   "cell_type": "code",
   "execution_count": 9,
   "id": "a6c6efb2",
   "metadata": {},
   "outputs": [
    {
     "data": {
      "text/plain": [
       "{'__header__': b'MATLAB 5.0 MAT-file Platform: posix, Created on: Mon Jan  6 08:26:23 2025',\n",
       " '__version__': '1.0',\n",
       " '__globals__': [],\n",
       " 'xAct': array([[-7.494190e-01],\n",
       "        [-7.399260e-01],\n",
       "        [-7.305360e-01],\n",
       "        [-7.429460e-01],\n",
       "        [-7.337290e-01],\n",
       "        [-6.652420e-01],\n",
       "        [-5.773300e+02],\n",
       "        [-5.773350e+02],\n",
       "        [-5.773480e+02],\n",
       "        [-5.773380e+02],\n",
       "        [-5.773300e+02],\n",
       "        [-5.773560e+02],\n",
       "        [-1.153944e+03],\n",
       "        [-1.153934e+03],\n",
       "        [-1.153944e+03],\n",
       "        [-1.153944e+03],\n",
       "        [-1.153944e+03],\n",
       "        [-9.982910e+02],\n",
       "        [-1.730534e+03],\n",
       "        [-1.730544e+03],\n",
       "        [-1.730554e+03],\n",
       "        [-1.730544e+03],\n",
       "        [-1.730554e+03],\n",
       "        [-1.518504e+03],\n",
       "        [-2.307153e+03],\n",
       "        [-2.307143e+03],\n",
       "        [-2.307153e+03],\n",
       "        [-2.307153e+03],\n",
       "        [-2.167913e+03],\n",
       "        [-2.883762e+03],\n",
       "        [-2.883732e+03],\n",
       "        [-2.883762e+03],\n",
       "        [-2.802793e+03],\n",
       "        [-2.745633e+03],\n",
       "        [-3.460342e+03],\n",
       "        [-3.460362e+03],\n",
       "        [-3.268162e+03],\n",
       "        [-3.436842e+03],\n",
       "        [-4.005681e+03],\n",
       "        [-3.873191e+03],\n",
       "        [-3.693202e+03],\n",
       "        [-5.773300e+02],\n",
       "        [-5.773350e+02],\n",
       "        [-5.773480e+02],\n",
       "        [-5.773380e+02],\n",
       "        [-5.773300e+02],\n",
       "        [-5.773560e+02],\n",
       "        [-1.153944e+03],\n",
       "        [-1.153934e+03],\n",
       "        [-1.153944e+03],\n",
       "        [-1.153944e+03],\n",
       "        [-1.153944e+03],\n",
       "        [-9.982910e+02],\n",
       "        [-1.730534e+03],\n",
       "        [-1.730544e+03],\n",
       "        [-1.730554e+03],\n",
       "        [-1.730544e+03],\n",
       "        [-1.730554e+03],\n",
       "        [-1.518504e+03],\n",
       "        [-2.307153e+03],\n",
       "        [-2.307143e+03],\n",
       "        [-2.307153e+03],\n",
       "        [-2.307153e+03],\n",
       "        [-2.167913e+03],\n",
       "        [-2.883762e+03],\n",
       "        [-2.883732e+03],\n",
       "        [-2.883762e+03],\n",
       "        [-2.802793e+03],\n",
       "        [-2.745633e+03],\n",
       "        [-3.460342e+03],\n",
       "        [-3.460362e+03],\n",
       "        [-3.268162e+03],\n",
       "        [-3.436842e+03],\n",
       "        [-4.005681e+03],\n",
       "        [-3.873191e+03],\n",
       "        [-3.693202e+03],\n",
       "        [-7.494190e-01],\n",
       "        [-7.399260e-01],\n",
       "        [-7.305360e-01],\n",
       "        [-7.429460e-01],\n",
       "        [-7.337290e-01],\n",
       "        [-6.652420e-01],\n",
       "        [ 5.758570e+02],\n",
       "        [ 5.758630e+02],\n",
       "        [ 5.758550e+02],\n",
       "        [ 5.758650e+02],\n",
       "        [ 5.758740e+02],\n",
       "        [ 5.758850e+02],\n",
       "        [ 1.152462e+03],\n",
       "        [ 1.152462e+03],\n",
       "        [ 1.152474e+03],\n",
       "        [ 1.152461e+03],\n",
       "        [ 1.152475e+03],\n",
       "        [ 9.969570e+02],\n",
       "        [ 1.729067e+03],\n",
       "        [ 1.729067e+03],\n",
       "        [ 1.729067e+03],\n",
       "        [ 1.729067e+03],\n",
       "        [ 1.729073e+03],\n",
       "        [ 1.517170e+03],\n",
       "        [ 2.305672e+03],\n",
       "        [ 2.305672e+03],\n",
       "        [ 2.305672e+03],\n",
       "        [ 2.305672e+03],\n",
       "        [ 2.166554e+03],\n",
       "        [ 2.882276e+03],\n",
       "        [ 2.882276e+03],\n",
       "        [ 2.882276e+03],\n",
       "        [ 2.801327e+03],\n",
       "        [ 2.744265e+03],\n",
       "        [ 3.458893e+03],\n",
       "        [ 3.458893e+03],\n",
       "        [ 3.266680e+03],\n",
       "        [ 3.435449e+03],\n",
       "        [ 4.004219e+03],\n",
       "        [ 3.871758e+03],\n",
       "        [ 3.691783e+03],\n",
       "        [ 5.758570e+02],\n",
       "        [ 5.758630e+02],\n",
       "        [ 5.758550e+02],\n",
       "        [ 5.758650e+02],\n",
       "        [ 5.758740e+02],\n",
       "        [ 5.758850e+02],\n",
       "        [ 1.152462e+03],\n",
       "        [ 1.152462e+03],\n",
       "        [ 1.152474e+03],\n",
       "        [ 1.152461e+03],\n",
       "        [ 1.152475e+03],\n",
       "        [ 9.969570e+02],\n",
       "        [ 1.729067e+03],\n",
       "        [ 1.729067e+03],\n",
       "        [ 1.729067e+03],\n",
       "        [ 1.729067e+03],\n",
       "        [ 1.729073e+03],\n",
       "        [ 1.517170e+03],\n",
       "        [ 2.305672e+03],\n",
       "        [ 2.305672e+03],\n",
       "        [ 2.305672e+03],\n",
       "        [ 2.305672e+03],\n",
       "        [ 2.166554e+03],\n",
       "        [ 2.882276e+03],\n",
       "        [ 2.882276e+03],\n",
       "        [ 2.882276e+03],\n",
       "        [ 2.801327e+03],\n",
       "        [ 2.744265e+03],\n",
       "        [ 3.458893e+03],\n",
       "        [ 3.458893e+03],\n",
       "        [ 3.266680e+03],\n",
       "        [ 3.435449e+03],\n",
       "        [ 4.004219e+03],\n",
       "        [ 3.871758e+03],\n",
       "        [ 3.691783e+03],\n",
       "        [-5.514010e+02],\n",
       "        [-3.123622e+03],\n",
       "        [-5.514010e+02],\n",
       "        [-3.123622e+03],\n",
       "        [ 5.499300e+02],\n",
       "        [ 3.122149e+03],\n",
       "        [ 5.499300e+02],\n",
       "        [ 3.122149e+03],\n",
       "        [-6.834260e-01],\n",
       "        [ 1.152530e+03],\n",
       "        [ 2.305740e+03],\n",
       "        [-1.153879e+03],\n",
       "        [-2.307078e+03],\n",
       "        [-6.834260e-01],\n",
       "        [ 1.152530e+03],\n",
       "        [ 2.305740e+03],\n",
       "        [-1.153879e+03],\n",
       "        [-2.307078e+03]]),\n",
       " 'yAct': array([[ -776.768],\n",
       "        [-1442.57 ],\n",
       "        [-2108.37 ],\n",
       "        [-2774.19 ],\n",
       "        [-3440.   ],\n",
       "        [-3968.01 ],\n",
       "        [ -443.875],\n",
       "        [-1109.66 ],\n",
       "        [-1775.47 ],\n",
       "        [-2441.28 ],\n",
       "        [-3107.08 ],\n",
       "        [-3550.97 ],\n",
       "        [ -776.773],\n",
       "        [-1442.59 ],\n",
       "        [-2108.37 ],\n",
       "        [-2774.19 ],\n",
       "        [-3440.   ],\n",
       "        [-3900.22 ],\n",
       "        [ -443.88 ],\n",
       "        [-1109.68 ],\n",
       "        [-1775.48 ],\n",
       "        [-2441.3  ],\n",
       "        [-3107.08 ],\n",
       "        [-3724.22 ],\n",
       "        [ -776.778],\n",
       "        [-1442.59 ],\n",
       "        [-2108.39 ],\n",
       "        [-2774.19 ],\n",
       "        [-3387.72 ],\n",
       "        [ -443.87 ],\n",
       "        [-1109.69 ],\n",
       "        [-1775.49 ],\n",
       "        [-2411.06 ],\n",
       "        [-2939.19 ],\n",
       "        [ -221.924],\n",
       "        [ -887.748],\n",
       "        [-1553.55 ],\n",
       "        [-2089.62 ],\n",
       "        [ -365.765],\n",
       "        [-1085.08 ],\n",
       "        [-1603.94 ],\n",
       "        [  443.876],\n",
       "        [ 1109.66 ],\n",
       "        [ 1775.47 ],\n",
       "        [ 2441.28 ],\n",
       "        [ 3107.08 ],\n",
       "        [ 3550.97 ],\n",
       "        [  776.772],\n",
       "        [ 1442.59 ],\n",
       "        [ 2108.37 ],\n",
       "        [ 2774.18 ],\n",
       "        [ 3440.   ],\n",
       "        [ 3900.23 ],\n",
       "        [  443.88 ],\n",
       "        [ 1109.68 ],\n",
       "        [ 1775.48 ],\n",
       "        [ 2441.3  ],\n",
       "        [ 3107.09 ],\n",
       "        [ 3724.21 ],\n",
       "        [  776.776],\n",
       "        [ 1442.59 ],\n",
       "        [ 2108.39 ],\n",
       "        [ 2774.19 ],\n",
       "        [ 3387.73 ],\n",
       "        [  443.871],\n",
       "        [ 1109.69 ],\n",
       "        [ 1775.49 ],\n",
       "        [ 2411.06 ],\n",
       "        [ 2939.19 ],\n",
       "        [  221.924],\n",
       "        [  887.748],\n",
       "        [ 1553.55 ],\n",
       "        [ 2089.62 ],\n",
       "        [  365.765],\n",
       "        [ 1085.08 ],\n",
       "        [ 1603.94 ],\n",
       "        [  776.768],\n",
       "        [ 1442.57 ],\n",
       "        [ 2108.37 ],\n",
       "        [ 2774.18 ],\n",
       "        [ 3439.99 ],\n",
       "        [ 3968.01 ],\n",
       "        [  443.88 ],\n",
       "        [ 1109.68 ],\n",
       "        [ 1775.48 ],\n",
       "        [ 2441.28 ],\n",
       "        [ 3107.08 ],\n",
       "        [ 3550.97 ],\n",
       "        [  776.772],\n",
       "        [ 1442.58 ],\n",
       "        [ 2108.37 ],\n",
       "        [ 2774.19 ],\n",
       "        [ 3440.   ],\n",
       "        [ 3900.2  ],\n",
       "        [  443.88 ],\n",
       "        [ 1109.66 ],\n",
       "        [ 1775.47 ],\n",
       "        [ 2441.29 ],\n",
       "        [ 3107.1  ],\n",
       "        [ 3724.15 ],\n",
       "        [  776.772],\n",
       "        [ 1442.58 ],\n",
       "        [ 2108.37 ],\n",
       "        [ 2774.18 ],\n",
       "        [ 3387.66 ],\n",
       "        [  443.88 ],\n",
       "        [ 1109.66 ],\n",
       "        [ 1775.47 ],\n",
       "        [ 2411.06 ],\n",
       "        [ 2939.08 ],\n",
       "        [  221.925],\n",
       "        [  887.735],\n",
       "        [ 1553.54 ],\n",
       "        [ 2089.5  ],\n",
       "        [  365.625],\n",
       "        [ 1084.94 ],\n",
       "        [ 1603.81 ],\n",
       "        [ -443.88 ],\n",
       "        [-1109.68 ],\n",
       "        [-1775.48 ],\n",
       "        [-2441.28 ],\n",
       "        [-3107.08 ],\n",
       "        [-3550.97 ],\n",
       "        [ -776.773],\n",
       "        [-1442.58 ],\n",
       "        [-2108.37 ],\n",
       "        [-2774.19 ],\n",
       "        [-3440.   ],\n",
       "        [-3900.2  ],\n",
       "        [ -443.88 ],\n",
       "        [-1109.67 ],\n",
       "        [-1775.48 ],\n",
       "        [-2441.29 ],\n",
       "        [-3107.11 ],\n",
       "        [-3724.15 ],\n",
       "        [ -776.773],\n",
       "        [-1442.58 ],\n",
       "        [-2108.37 ],\n",
       "        [-2774.19 ],\n",
       "        [-3387.67 ],\n",
       "        [ -443.88 ],\n",
       "        [-1109.67 ],\n",
       "        [-1775.48 ],\n",
       "        [-2411.06 ],\n",
       "        [-2939.08 ],\n",
       "        [ -221.925],\n",
       "        [ -887.735],\n",
       "        [-1553.54 ],\n",
       "        [-2089.51 ],\n",
       "        [ -365.625],\n",
       "        [-1084.95 ],\n",
       "        [-1603.81 ],\n",
       "        [-3927.94 ],\n",
       "        [-2540.57 ],\n",
       "        [ 3927.94 ],\n",
       "        [ 2540.57 ],\n",
       "        [ 3927.94 ],\n",
       "        [ 2540.57 ],\n",
       "        [-3927.94 ],\n",
       "        [-2540.57 ],\n",
       "        [    0.   ],\n",
       "        [    0.   ],\n",
       "        [    0.   ],\n",
       "        [    0.   ],\n",
       "        [    0.   ],\n",
       "        [    0.   ],\n",
       "        [    0.   ],\n",
       "        [    0.   ],\n",
       "        [    0.   ],\n",
       "        [    0.   ]])}"
      ]
     },
     "execution_count": 9,
     "metadata": {},
     "output_type": "execute_result"
    }
   ],
   "source": [
    "dfSA = scipy.io.loadmat('actCoords_GMT.mat')\n",
    "dfSA"
   ]
  },
  {
   "cell_type": "markdown",
   "id": "344cb708",
   "metadata": {},
   "source": [
    "# nodeCoords.mat second"
   ]
  },
  {
   "cell_type": "code",
   "execution_count": 23,
   "id": "8dced74e",
   "metadata": {},
   "outputs": [
    {
     "name": "stdout",
     "output_type": "stream",
     "text": [
      "N node =  6991\n"
     ]
    }
   ],
   "source": [
    "#read FEA nodes data\n",
    "mat = scipy.io.loadmat(dataFolder+Jan25MLFolder+'/nodeCoords.mat')\n",
    "nodex_ml = mat['y']/1e3 #turn into meter #swap x/y to get to M1B (M1DCS uses M1B!!!)\n",
    "nodey_ml = mat['x']/1e3 #turn into meter\n",
    "print('N node = ', len(nodex_ml))"
   ]
  },
  {
   "cell_type": "code",
   "execution_count": 9,
   "id": "64268c65",
   "metadata": {},
   "outputs": [
    {
     "name": "stdout",
     "output_type": "stream",
     "text": [
      "N node =  28789 28789\n"
     ]
    }
   ],
   "source": [
    "#read FEA nodes data\n",
    "Dec24IFFolder = '/influnce_matrix_files/OA_influence_matrices_all/OA_surface_normal_normalised_20Dec2024/'\n",
    "\n",
    "df = pd.read_csv(dataFolder+Dec24IFFolder+'surfacenodes_M1B-20-Dec-2024.csv')\n",
    "nodeID = np.array(df['nodeID'])\n",
    "nodex = np.array(df['X'])\n",
    "nodey = np.array(df['Y'])\n",
    "nodez = np.array(df['Z'])\n",
    "print('N node = ', len(nodeID), len(nodex))"
   ]
  },
  {
   "cell_type": "code",
   "execution_count": 10,
   "id": "6bcd1d00",
   "metadata": {},
   "outputs": [],
   "source": [
    "# use these indices to remove surface nodes outside of CA\n",
    "noder = np.sqrt(nodex**2+nodey**2)\n",
    "insideCA = noder< np.max(nodex_ml) #diameter_of_CA/2.0\n",
    "nodeID = nodeID[insideCA]\n",
    "nodex = nodex[insideCA]\n",
    "nodey = nodey[insideCA]\n",
    "nodez = nodez[insideCA]"
   ]
  },
  {
   "cell_type": "code",
   "execution_count": 11,
   "id": "ea237961",
   "metadata": {},
   "outputs": [
    {
     "name": "stdout",
     "output_type": "stream",
     "text": [
      "27547 4.18097218296512\n"
     ]
    }
   ],
   "source": [
    "print(len(nodex), np.max(nodex))\n",
    "x = nodey.reshape(-1,1)*1e3 #swap x,y, and turn meter into mm\n",
    "y = nodex.reshape(-1,1)*1e3"
   ]
  },
  {
   "cell_type": "code",
   "execution_count": 15,
   "id": "5ac9694f",
   "metadata": {},
   "outputs": [],
   "source": [
    "data = {'x': x, 'y': y}\n",
    "savemat('nodeCoords_GMT.mat', data)"
   ]
  },
  {
   "cell_type": "markdown",
   "id": "915d4bb7",
   "metadata": {},
   "source": [
    "# SVD.mat third and last"
   ]
  },
  {
   "cell_type": "code",
   "execution_count": 24,
   "id": "cad94a7f",
   "metadata": {},
   "outputs": [
    {
     "name": "stdout",
     "output_type": "stream",
     "text": [
      "U matrix (6991, 165)\n",
      "(165, 165) (165, 165)\n",
      "0.09135223301207027 983.4108904783556 0.40516610071388\n"
     ]
    }
   ],
   "source": [
    "#read Fz Bending Mode \n",
    "mat = scipy.io.loadmat(dataFolder+Jan25MLFolder+'/SVD.mat')\n",
    "UMat_ml = mat['U']\n",
    "SMat_ml = mat['S']\n",
    "VMat_ml = mat['V']\n",
    "print('U matrix', UMat_ml.shape)\n",
    "print(SMat_ml.shape, VMat_ml.shape)\n",
    "print(np.max(UMat_ml), np.max(SMat_ml), np.max(VMat_ml))"
   ]
  },
  {
   "cell_type": "markdown",
   "id": "df7552f0",
   "metadata": {},
   "source": [
    "### generate our U,S,V matrices"
   ]
  },
  {
   "cell_type": "code",
   "execution_count": 25,
   "id": "f2cbff08",
   "metadata": {},
   "outputs": [
    {
     "name": "stdout",
     "output_type": "stream",
     "text": [
      "Afz =  (28789, 176)\n",
      "(27547, 170) (170,) (170, 170)\n"
     ]
    }
   ],
   "source": [
    "#read Afz (Fz influence matrix) - 01/02/2025. Trupti confirmed on slack that this is surface normal\n",
    "df = pd.read_csv(dataFolder+Dec24IFFolder+'Afz-20-Dec-2024.csv', header=None)\n",
    "Afz = np.array(df)\n",
    "print('Afz = ',Afz.shape)\n",
    "# this is Afz only; it is 28789 x 176. last 6 being HPs\n",
    "\n",
    "Afz = Afz[insideCA, :]\n",
    "#this takes ~1 minute\n",
    "#U, S, Vt = np.linalg.svd(Afz[:,:nact]) #here we exclude the HPs, because our force RMS should not include those\n",
    "\n",
    "Afz = Afz[:,:nact] #here we exclude the HPs, because our force RMS should not include those\n",
    "Afz[:,-10:] *= 2 #Trupti divided them by 2, which she shouldn't have. Let's put the factor of 2 back\n",
    "\n",
    "#RFCML mode shapes are in nanometers, GMT uses meters\n",
    "Afz *= 1e9\n",
    "U, S, Vt = np.linalg.svd(Afz[:,:(nact)], full_matrices=False) \n",
    "print(U.shape, S.shape, Vt.shape)"
   ]
  },
  {
   "cell_type": "markdown",
   "id": "52023506",
   "metadata": {},
   "source": [
    "#### the ordering of the nodes is what it is. We already defined them in nodeCoords.mat\n",
    "\n",
    "#### Do we need to shuffle the columns of S and rows of V? No. see my pptx for 1/16/25. The columns of Afz is already consistent with actCoords.mat"
   ]
  },
  {
   "cell_type": "code",
   "execution_count": 40,
   "id": "588229c8",
   "metadata": {},
   "outputs": [
    {
     "name": "stdout",
     "output_type": "stream",
     "text": [
      "(27547, 170) (170,) (170, 170)\n",
      "0.9072200869354443 2306.0695612489912 0.7041432512066129\n",
      "0.9999999999999994\n",
      "0.9999999992983112\n",
      "[983.41089048 973.72700474 397.53158549 186.99313824 173.92290716]\n",
      "[2306.06956125 2289.15698866  892.00909753  418.00789492  399.71815889]\n"
     ]
    }
   ],
   "source": [
    "print(U.shape, S.shape, Vt.shape)\n",
    "print(np.max(U), np.max(S), np.max(Vt))\n",
    "print(np.std(UMat_ml[:,0])*np.sqrt(UMat_ml.shape[0]))\n",
    "print(np.std(U[:,0])*np.sqrt(U.shape[0]))\n",
    "print(np.diag(SMat_ml)[:5])\n",
    "print(S[:5])"
   ]
  },
  {
   "cell_type": "code",
   "execution_count": 41,
   "id": "5b33d314",
   "metadata": {},
   "outputs": [
    {
     "name": "stdout",
     "output_type": "stream",
     "text": [
      "(27547, 170) (170, 170) (170, 170)\n"
     ]
    }
   ],
   "source": [
    "#even after we've dealt with the x,y, the z axis is reversed.\n",
    "#we could leave the U,V untouched at the same time. it will still work. \n",
    "#But this makes them consistent with what GMT uses\n",
    "U = -U[:,:nact] \n",
    "Sigma = np.zeros((nact,nact))  # Create a matrix of zeros with the shape of A\n",
    "np.fill_diagonal(Sigma, S)  # Place the singular values on the diagonal\n",
    "S = Sigma\n",
    "V= - Vt.T\n",
    "print(U.shape, S.shape, V.shape)"
   ]
  },
  {
   "cell_type": "code",
   "execution_count": 42,
   "id": "b902bdb5",
   "metadata": {},
   "outputs": [],
   "source": [
    "data={'U':U, 'S':S, 'V':V}\n",
    "savemat('SVD_GMT.mat', data)"
   ]
  },
  {
   "cell_type": "code",
   "execution_count": 20,
   "id": "8feefdd0",
   "metadata": {},
   "outputs": [
    {
     "data": {
      "text/plain": [
       "array([ 101,  102,  103,  104,  105,  106,  107,  108,  109,  110,  111,\n",
       "        112,  114,  115,  116,  117,  118,  119,  120,  121,  122,  123,\n",
       "        124,  125,  127,  128,  129,  130,  131,  132,  133,  134,  135,\n",
       "        136,  137,  138,  139,  140,  141,  142,  143,  207,  208,  209,\n",
       "        210,  211,  212,  214,  215,  216,  217,  218,  219,  220,  221,\n",
       "        222,  223,  224,  225,  227,  228,  229,  230,  231,  232,  233,\n",
       "        234,  235,  236,  237,  238,  239,  240,  241,  242,  243,  301,\n",
       "        302,  303,  304,  305,  306,  307,  308,  309,  310,  311,  312,\n",
       "        314,  315,  316,  317,  318,  319,  320,  321,  322,  323,  324,\n",
       "        325,  327,  328,  329,  330,  331,  332,  333,  334,  335,  336,\n",
       "        337,  338,  339,  340,  341,  342,  343,  407,  408,  409,  410,\n",
       "        411,  412,  414,  415,  416,  417,  418,  419,  420,  421,  422,\n",
       "        423,  424,  425,  427,  428,  429,  430,  431,  432,  433,  434,\n",
       "        435,  436,  437,  438,  439,  440,  441,  442,  443, 1112, 1135,\n",
       "       1212, 1235, 1312, 1335, 1412, 1435,  144,  313,  326,  113,  126,\n",
       "       1144, 1313, 1326, 1113, 1126])"
      ]
     },
     "execution_count": 20,
     "metadata": {},
     "output_type": "execute_result"
    }
   ],
   "source": [
    "saID"
   ]
  },
  {
   "cell_type": "code",
   "execution_count": null,
   "id": "38bac49f",
   "metadata": {},
   "outputs": [],
   "source": []
  }
 ],
 "metadata": {
  "kernelspec": {
   "display_name": "Python 3 (ipykernel)",
   "language": "python",
   "name": "python3"
  },
  "language_info": {
   "codemirror_mode": {
    "name": "ipython",
    "version": 3
   },
   "file_extension": ".py",
   "mimetype": "text/x-python",
   "name": "python",
   "nbconvert_exporter": "python",
   "pygments_lexer": "ipython3",
   "version": "3.11.5"
  }
 },
 "nbformat": 4,
 "nbformat_minor": 5
}
