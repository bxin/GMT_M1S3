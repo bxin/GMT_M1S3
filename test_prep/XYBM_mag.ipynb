{
 "cells": [
  {
   "cell_type": "code",
   "execution_count": 1,
   "id": "d4781c74",
   "metadata": {},
   "outputs": [
    {
     "name": "stdout",
     "output_type": "stream",
     "text": [
      "Intel MKL WARNING: Support of Intel(R) Streaming SIMD Extensions 4.2 (Intel(R) SSE4.2) enabled only processors has been deprecated. Intel oneAPI Math Kernel Library 2025.0 will require Intel(R) Advanced Vector Extensions (Intel(R) AVX) instructions.\n",
      "Intel MKL WARNING: Support of Intel(R) Streaming SIMD Extensions 4.2 (Intel(R) SSE4.2) enabled only processors has been deprecated. Intel oneAPI Math Kernel Library 2025.0 will require Intel(R) Advanced Vector Extensions (Intel(R) AVX) instructions.\n"
     ]
    }
   ],
   "source": [
    "import numpy as np\n",
    "import pandas as pd\n",
    "import scipy.io\n",
    "\n",
    "import matplotlib.pyplot as plt\n",
    "import sys"
   ]
  },
  {
   "cell_type": "code",
   "execution_count": 37,
   "id": "cdce8c56",
   "metadata": {},
   "outputs": [
    {
     "data": {
      "text/html": [
       "<div>\n",
       "<style scoped>\n",
       "    .dataframe tbody tr th:only-of-type {\n",
       "        vertical-align: middle;\n",
       "    }\n",
       "\n",
       "    .dataframe tbody tr th {\n",
       "        vertical-align: top;\n",
       "    }\n",
       "\n",
       "    .dataframe thead th {\n",
       "        text-align: right;\n",
       "    }\n",
       "</style>\n",
       "<table border=\"1\" class=\"dataframe\">\n",
       "  <thead>\n",
       "    <tr style=\"text-align: right;\">\n",
       "      <th></th>\n",
       "      <th>modeID</th>\n",
       "      <th>S RMS(nm)</th>\n",
       "      <th>S MAX(nm)</th>\n",
       "      <th>F/puck RMS(N)</th>\n",
       "      <th>F/puck MAX(N)</th>\n",
       "      <th>slope RMS (nm/100mm)</th>\n",
       "      <th>slope MAX (nm/100mm)</th>\n",
       "    </tr>\n",
       "  </thead>\n",
       "  <tbody>\n",
       "    <tr>\n",
       "      <th>0</th>\n",
       "      <td>1</td>\n",
       "      <td>500</td>\n",
       "      <td>1332</td>\n",
       "      <td>8</td>\n",
       "      <td>18</td>\n",
       "      <td>46</td>\n",
       "      <td>144</td>\n",
       "    </tr>\n",
       "    <tr>\n",
       "      <th>1</th>\n",
       "      <td>2</td>\n",
       "      <td>500</td>\n",
       "      <td>1302</td>\n",
       "      <td>36</td>\n",
       "      <td>96</td>\n",
       "      <td>62</td>\n",
       "      <td>176</td>\n",
       "    </tr>\n",
       "    <tr>\n",
       "      <th>2</th>\n",
       "      <td>3</td>\n",
       "      <td>500</td>\n",
       "      <td>1453</td>\n",
       "      <td>37</td>\n",
       "      <td>98</td>\n",
       "      <td>62</td>\n",
       "      <td>203</td>\n",
       "    </tr>\n",
       "    <tr>\n",
       "      <th>3</th>\n",
       "      <td>4</td>\n",
       "      <td>397</td>\n",
       "      <td>784</td>\n",
       "      <td>53</td>\n",
       "      <td>147</td>\n",
       "      <td>47</td>\n",
       "      <td>153</td>\n",
       "    </tr>\n",
       "    <tr>\n",
       "      <th>4</th>\n",
       "      <td>5</td>\n",
       "      <td>352</td>\n",
       "      <td>778</td>\n",
       "      <td>53</td>\n",
       "      <td>147</td>\n",
       "      <td>50</td>\n",
       "      <td>148</td>\n",
       "    </tr>\n",
       "    <tr>\n",
       "      <th>5</th>\n",
       "      <td>6</td>\n",
       "      <td>295</td>\n",
       "      <td>609</td>\n",
       "      <td>55</td>\n",
       "      <td>147</td>\n",
       "      <td>37</td>\n",
       "      <td>111</td>\n",
       "    </tr>\n",
       "    <tr>\n",
       "      <th>6</th>\n",
       "      <td>7</td>\n",
       "      <td>258</td>\n",
       "      <td>337</td>\n",
       "      <td>56</td>\n",
       "      <td>147</td>\n",
       "      <td>42</td>\n",
       "      <td>141</td>\n",
       "    </tr>\n",
       "    <tr>\n",
       "      <th>7</th>\n",
       "      <td>8</td>\n",
       "      <td>134</td>\n",
       "      <td>403</td>\n",
       "      <td>52</td>\n",
       "      <td>147</td>\n",
       "      <td>24</td>\n",
       "      <td>88</td>\n",
       "    </tr>\n",
       "    <tr>\n",
       "      <th>8</th>\n",
       "      <td>9</td>\n",
       "      <td>125</td>\n",
       "      <td>331</td>\n",
       "      <td>50</td>\n",
       "      <td>147</td>\n",
       "      <td>24</td>\n",
       "      <td>75</td>\n",
       "    </tr>\n",
       "    <tr>\n",
       "      <th>9</th>\n",
       "      <td>10</td>\n",
       "      <td>138</td>\n",
       "      <td>386</td>\n",
       "      <td>58</td>\n",
       "      <td>147</td>\n",
       "      <td>27</td>\n",
       "      <td>86</td>\n",
       "    </tr>\n",
       "  </tbody>\n",
       "</table>\n",
       "</div>"
      ],
      "text/plain": [
       "   modeID    S RMS(nm)    S MAX(nm)   F/puck RMS(N)   F/puck MAX(N)  \\\n",
       "0       1          500         1332               8              18   \n",
       "1       2          500         1302              36              96   \n",
       "2       3          500         1453              37              98   \n",
       "3       4          397          784              53             147   \n",
       "4       5          352          778              53             147   \n",
       "5       6          295          609              55             147   \n",
       "6       7          258          337              56             147   \n",
       "7       8          134          403              52             147   \n",
       "8       9          125          331              50             147   \n",
       "9      10          138          386              58             147   \n",
       "\n",
       "    slope RMS (nm/100mm)   slope MAX (nm/100mm)  \n",
       "0                     46                    144  \n",
       "1                     62                    176  \n",
       "2                     62                    203  \n",
       "3                     47                    153  \n",
       "4                     50                    148  \n",
       "5                     37                    111  \n",
       "6                     42                    141  \n",
       "7                     24                     88  \n",
       "8                     24                     75  \n",
       "9                     27                     86  "
      ]
     },
     "execution_count": 37,
     "metadata": {},
     "output_type": "execute_result"
    }
   ],
   "source": [
    "df = pd.read_csv('../y_mag.csv')\n",
    "df"
   ]
  },
  {
   "cell_type": "code",
   "execution_count": 38,
   "id": "c92ad2b7",
   "metadata": {},
   "outputs": [
    {
     "data": {
      "text/plain": [
       "array([1.        , 1.        , 1.        , 1.25944584, 1.42045455,\n",
       "       1.69491525, 1.9379845 , 3.40909091, 4.        , 3.48837209])"
      ]
     },
     "execution_count": 38,
     "metadata": {},
     "output_type": "execute_result"
    }
   ],
   "source": [
    "scale_f_s_rms = np.array(500/df['  S RMS(nm)']) #what it takes to scale surface rms to 500nm\n",
    "scale_f_slope_max = np.array(300/df[' slope MAX (nm/100mm)']) #what it takes to scale slope max to 300nm/100mm\n",
    "c = np.zeros((10,2))\n",
    "c[:,0] = scale_f_s_rms\n",
    "c[:,1] = scale_f_slope_max\n",
    "cx = np.min(c, axis=1)\n",
    "cx"
   ]
  },
  {
   "cell_type": "code",
   "execution_count": 39,
   "id": "7fbbbb93",
   "metadata": {},
   "outputs": [
    {
     "name": "stdout",
     "output_type": "stream",
     "text": [
      "1 500.0\n",
      "2 500.0\n",
      "3 500.0\n",
      "4 500.0\n",
      "5 500.0\n",
      "6 500.0\n",
      "7 500.0\n",
      "8 456.8\n",
      "9 500.0\n",
      "10 481.4\n"
     ]
    }
   ],
   "source": [
    "for i in range(10):\n",
    "    print(i+1, '%.1f'%(df['  S RMS(nm)'][i]*cx[i]))"
   ]
  },
  {
   "cell_type": "code",
   "execution_count": 40,
   "id": "5f06fa18",
   "metadata": {},
   "outputs": [
    {
     "data": {
      "text/plain": [
       "0    144.000000\n",
       "1    176.000000\n",
       "2    203.000000\n",
       "3    192.695214\n",
       "4    210.227273\n",
       "5    188.135593\n",
       "6    273.255814\n",
       "7    300.000000\n",
       "8    300.000000\n",
       "9    300.000000\n",
       "Name:  slope MAX (nm/100mm), dtype: float64"
      ]
     },
     "execution_count": 40,
     "metadata": {},
     "output_type": "execute_result"
    }
   ],
   "source": [
    "df[' slope MAX (nm/100mm)']*cx"
   ]
  },
  {
   "cell_type": "code",
   "execution_count": 28,
   "id": "f59541b2",
   "metadata": {},
   "outputs": [
    {
     "data": {
      "text/plain": [
       "array([2.18978102, 1.72413793, 1.35746606, 2.29007634, 2.56410256,\n",
       "       2.01342282, 2.22222222, 4.16666667, 3.65853659, 3.75      ])"
      ]
     },
     "execution_count": 28,
     "metadata": {},
     "output_type": "execute_result"
    }
   ],
   "source": []
  },
  {
   "cell_type": "code",
   "execution_count": null,
   "id": "f9e2ff61",
   "metadata": {},
   "outputs": [],
   "source": []
  }
 ],
 "metadata": {
  "kernelspec": {
   "display_name": "Python 3 (ipykernel)",
   "language": "python",
   "name": "python3"
  },
  "language_info": {
   "codemirror_mode": {
    "name": "ipython",
    "version": 3
   },
   "file_extension": ".py",
   "mimetype": "text/x-python",
   "name": "python",
   "nbconvert_exporter": "python",
   "pygments_lexer": "ipython3",
   "version": "3.11.5"
  }
 },
 "nbformat": 4,
 "nbformat_minor": 5
}
