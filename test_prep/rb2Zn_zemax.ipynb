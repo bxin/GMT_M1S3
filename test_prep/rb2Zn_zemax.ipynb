{
 "cells": [
  {
   "cell_type": "code",
   "execution_count": 2,
   "id": "d07808e9",
   "metadata": {},
   "outputs": [
    {
     "data": {
      "text/plain": [
       "<Figure size 640x480 with 0 Axes>"
      ]
     },
     "metadata": {},
     "output_type": "display_data"
    }
   ],
   "source": [
    "import numpy as np\n",
    "\n",
    "import matplotlib.pyplot as plt\n",
    "\n",
    "from M1S_tools import ZernikeMaskedFit\n",
    "\n",
    "plt.jet()"
   ]
  },
  {
   "cell_type": "markdown",
   "id": "03241b65",
   "metadata": {},
   "source": [
    "## Method 1, do the rigid body motions in Zemax, get the Zernike coefficients from Zemax"
   ]
  },
  {
   "cell_type": "code",
   "execution_count": 3,
   "id": "2c4667a3",
   "metadata": {
    "scrolled": true
   },
   "outputs": [],
   "source": [
    "def readZ(filename, zn):\n",
    "    z = np.zeros(zn)\n",
    "    fid = open(filename)\n",
    "    for line in fid:\n",
    "        a = line.split()\n",
    "        if len(a)>0:\n",
    "            i = np.int8(a[1])-1\n",
    "            z[i] = a[2]\n",
    "    return z"
   ]
  },
  {
   "cell_type": "code",
   "execution_count": 4,
   "id": "fb1b1483",
   "metadata": {},
   "outputs": [],
   "source": [
    "n_of_zernikes = 37"
   ]
  },
  {
   "cell_type": "code",
   "execution_count": 5,
   "id": "196bcfca",
   "metadata": {},
   "outputs": [],
   "source": [
    "filename = 'zmxData/nominalZ.txt'\n",
    "zer_nominal=readZ(filename, n_of_zernikes)"
   ]
  },
  {
   "cell_type": "code",
   "execution_count": 6,
   "id": "6c83bd79",
   "metadata": {},
   "outputs": [],
   "source": [
    "filename = 'zmxData/radial1mm.txt'\n",
    "zer_radial_1mm=readZ(filename, n_of_zernikes)"
   ]
  },
  {
   "cell_type": "code",
   "execution_count": 7,
   "id": "a49483f6",
   "metadata": {},
   "outputs": [
    {
     "name": "stdout",
     "output_type": "stream",
     "text": [
      "663, 4244, 3308\n",
      "table col1 = 799, 539, 49\n"
     ]
    }
   ],
   "source": [
    "col1 = (zer_radial_1mm-zer_nominal)*632.8/2\n",
    "print('%d, %d, %d'%(col1[4-1], np.sqrt(col1[5-1]**2 + col1[6-1]**2), np.sqrt(col1[7-1]**2 + col1[8-1]**2)))\n",
    "print('table col1 = 799, 539, 49')"
   ]
  },
  {
   "cell_type": "code",
   "execution_count": 8,
   "id": "5cf81e96",
   "metadata": {},
   "outputs": [],
   "source": [
    "filename = 'zmxData/rotate0.02deg.txt'\n",
    "z_rotate_002deg=readZ(filename, n_of_zernikes)"
   ]
  },
  {
   "cell_type": "code",
   "execution_count": 9,
   "id": "03126e14",
   "metadata": {},
   "outputs": [
    {
     "name": "stdout",
     "output_type": "stream",
     "text": [
      "5, 1730, 259\n",
      "table col2 = __, 1280, 168\n"
     ]
    }
   ],
   "source": [
    "col2 = (z_rotate_002deg-zer_nominal)*632.8/2/0.02*(1./60)*(50./60)\n",
    "print('%d, %d, %d'%(col2[4-1], np.sqrt(col2[5-1]**2 + col2[6-1]**2), np.sqrt(col2[7-1]**2 + col2[8-1]**2)))\n",
    "print('table col2 = __, 1280, 168')"
   ]
  },
  {
   "cell_type": "markdown",
   "id": "233ef412",
   "metadata": {},
   "source": [
    "### perhaps this is because of Zernike normalization?\n",
    "\n",
    "4700 is the user defined aperture on GMT M1 surface in Zemax"
   ]
  },
  {
   "cell_type": "code",
   "execution_count": 9,
   "id": "1a42b229",
   "metadata": {},
   "outputs": [
    {
     "data": {
      "text/plain": [
       "0.8898936170212766"
      ]
     },
     "execution_count": 9,
     "metadata": {},
     "output_type": "execute_result"
    }
   ],
   "source": [
    "8365./(4700*2)\n",
    "#I tried this in the Zernike coefficent \"settings\" by adjusting Sr. \n",
    "#It helps to some degree, but still not a good match"
   ]
  },
  {
   "cell_type": "code",
   "execution_count": null,
   "id": "97ee027a",
   "metadata": {},
   "outputs": [],
   "source": []
  }
 ],
 "metadata": {
  "kernelspec": {
   "display_name": "Python 3 (ipykernel)",
   "language": "python",
   "name": "python3"
  },
  "language_info": {
   "codemirror_mode": {
    "name": "ipython",
    "version": 3
   },
   "file_extension": ".py",
   "mimetype": "text/x-python",
   "name": "python",
   "nbconvert_exporter": "python",
   "pygments_lexer": "ipython3",
   "version": "3.9.17"
  }
 },
 "nbformat": 4,
 "nbformat_minor": 5
}
