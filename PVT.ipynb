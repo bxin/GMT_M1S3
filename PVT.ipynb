{
 "cells": [
  {
   "cell_type": "code",
   "execution_count": 1,
   "id": "508cc94e",
   "metadata": {},
   "outputs": [
    {
     "name": "stdout",
     "output_type": "stream",
     "text": [
      "Intel MKL WARNING: Support of Intel(R) Streaming SIMD Extensions 4.2 (Intel(R) SSE4.2) enabled only processors has been deprecated. Intel oneAPI Math Kernel Library 2025.0 will require Intel(R) Advanced Vector Extensions (Intel(R) AVX) instructions.\n",
      "Intel MKL WARNING: Support of Intel(R) Streaming SIMD Extensions 4.2 (Intel(R) SSE4.2) enabled only processors has been deprecated. Intel oneAPI Math Kernel Library 2025.0 will require Intel(R) Advanced Vector Extensions (Intel(R) AVX) instructions.\n"
     ]
    },
    {
     "data": {
      "text/plain": [
       "<Figure size 640x480 with 0 Axes>"
      ]
     },
     "metadata": {},
     "output_type": "display_data"
    }
   ],
   "source": [
    "import numpy as np\n",
    "\n",
    "import matplotlib.pyplot as plt\n",
    "plt.jet()"
   ]
  },
  {
   "cell_type": "code",
   "execution_count": 2,
   "id": "4fcc17cb",
   "metadata": {},
   "outputs": [],
   "source": [
    "r_S1_center_in_S7 = 8.710 #distance of S1 to optical axis in m\n",
    "diameter_of_CA = 8.365 #CA diamter in m\n",
    "radius_of_curvature = 36.000 #radius of curvature in m\n",
    "conic = -0.998286\n",
    "radius_of_CA = diameter_of_CA/2.0\n",
    "y_S1_center = r_S1_center_in_S7\n",
    "x_S1_center = 0\n",
    "\n",
    "def surfFunc(r2):\n",
    "    return r2/(radius_of_curvature+np.sqrt(radius_of_curvature**2-(1+conic)*r2))"
   ]
  },
  {
   "cell_type": "code",
   "execution_count": null,
   "id": "96d2e11a",
   "metadata": {},
   "outputs": [],
   "source": []
  }
 ],
 "metadata": {
  "kernelspec": {
   "display_name": "Python 3 (ipykernel)",
   "language": "python",
   "name": "python3"
  },
  "language_info": {
   "codemirror_mode": {
    "name": "ipython",
    "version": 3
   },
   "file_extension": ".py",
   "mimetype": "text/x-python",
   "name": "python",
   "nbconvert_exporter": "python",
   "pygments_lexer": "ipython3",
   "version": "3.11.5"
  }
 },
 "nbformat": 4,
 "nbformat_minor": 5
}
