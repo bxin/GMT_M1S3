{
 "cells": [
  {
   "cell_type": "code",
   "execution_count": 5,
   "id": "508cc94e",
   "metadata": {},
   "outputs": [
    {
     "name": "stdout",
     "output_type": "stream",
     "text": [
      "Intel MKL WARNING: Support of Intel(R) Streaming SIMD Extensions 4.2 (Intel(R) SSE4.2) enabled only processors has been deprecated. Intel oneAPI Math Kernel Library 2025.0 will require Intel(R) Advanced Vector Extensions (Intel(R) AVX) instructions.\n",
      "Intel MKL WARNING: Support of Intel(R) Streaming SIMD Extensions 4.2 (Intel(R) SSE4.2) enabled only processors has been deprecated. Intel oneAPI Math Kernel Library 2025.0 will require Intel(R) Advanced Vector Extensions (Intel(R) AVX) instructions.\n"
     ]
    },
    {
     "data": {
      "text/plain": [
       "<Figure size 640x480 with 0 Axes>"
      ]
     },
     "metadata": {},
     "output_type": "display_data"
    }
   ],
   "source": [
    "import numpy as np\n",
    "\n",
    "import matplotlib.pyplot as plt\n",
    "plt.jet()"
   ]
  },
  {
   "cell_type": "markdown",
   "id": "7a294f7c",
   "metadata": {},
   "source": [
    "### Optical Testing configuration"
   ]
  },
  {
   "cell_type": "code",
   "execution_count": null,
   "id": "4ba81914",
   "metadata": {},
   "outputs": [],
   "source": [
    "omega_arcsec = 0.1\n",
    "arc_length_arcsec = 50\n",
    "time_interval_s = 50"
   ]
  },
  {
   "cell_type": "markdown",
   "id": "15d867d4",
   "metadata": {},
   "source": [
    "### Numerical Testing configuration"
   ]
  },
  {
   "cell_type": "code",
   "execution_count": 51,
   "id": "970482db",
   "metadata": {},
   "outputs": [],
   "source": [
    "#for testing; easier visualization.\n",
    "omega_arcsec = 0.1 *3600 *10 #turn it into 1 deg/s\n",
    "arc_length_arcsec = 50 *3600 /50*360 #turn it into 360 deg\n",
    "time_interval_s = 20"
   ]
  },
  {
   "cell_type": "code",
   "execution_count": 52,
   "id": "450f8d8b",
   "metadata": {},
   "outputs": [
    {
     "name": "stdout",
     "output_type": "stream",
     "text": [
      "This will take 6.0 minutes = 360.0 seconds\n",
      "Number of samples in time = 18\n"
     ]
    }
   ],
   "source": [
    "total_time_s = arc_length_arcsec/omega_arcsec\n",
    "total_time_m = total_time_s/60.\n",
    "n_time = int(total_time_s/time_interval_s)\n",
    "print('This will take %.1f minutes = %.1f seconds'%(total_time_m, total_time_s))\n",
    "print('Number of samples in time = %d'%n_time)\n",
    "\n",
    "omega_rad = omega_arcsec/3600./180*np.pi\n",
    "tt = np.linspace(0,time_interval_s*(n_time-1), n_time) #time vector\n",
    "theta_m1s7 = omega_rad*tt\n",
    "v_mag = r_S1_center_in_S7*omega_rad"
   ]
  },
  {
   "cell_type": "code",
   "execution_count": 89,
   "id": "96d2e11a",
   "metadata": {},
   "outputs": [],
   "source": [
    "p_m1s7 = np.zeros((n_time, 6))\n",
    "v_m1s7 = np.zeros((n_time, 6))\n",
    "p_m1b = np.zeros_like(p_m1s7)\n",
    "v_m1b = np.zeros_like(v_m1s7)\n",
    "\n",
    "#just think of this segment as M1S1, whose center is on the +y axis of M1S7 CS.\n",
    "#it would also work if we think of this as M1S2, or M1S3, in the end, the results would be same.\n",
    "#but it is easier to visualize it if the segment center is on the +y axis of M1S7 CS.\n",
    "#let's spin in clockwise direction when viewed from the sky\n",
    "p_m1s7[:,0] = r_S1_center_in_S7*np.sin(theta_m1s7) #x\n",
    "p_m1s7[:,1] = r_S1_center_in_S7*np.cos(theta_m1s7) #y\n",
    "p_m1s7[:,2] = surfFunc(r_S1_center_in_S7**2) #z\n",
    "p_m1s7[:,3] = 0 #Rx, x rotation, how is the segment oriented in m1s7 at this moment in time, unit is rad\n",
    "p_m1s7[:,4] = 0 #Ry, y rotation\n",
    "p_m1s7[:,5] = -theta_m1s7 #Rz, z rotation\n",
    "\n",
    "v_m1s7[:,0] = v_mag*np.cos(theta_m1s7) #vx\n",
    "v_m1s7[:,1] = -v_mag*np.sin(theta_m1s7) #vy\n",
    "v_m1s7[:,2] = 0 #vz\n",
    "v_m1s7[:,3] = 0 #is Rx changing with time? no\n",
    "v_m1s7[:,4] = 0 #is Ry changing with time? no\n",
    "v_m1s7[:,5] = -omega_rad #is Rz changing with time? yes, unit is rad/s; Rz is getting more and more negative with t"
   ]
  },
  {
   "cell_type": "code",
   "execution_count": 54,
   "id": "1d9520e7",
   "metadata": {},
   "outputs": [
    {
     "data": {
      "image/png": "[encoded data removed]",
      "text/plain": [
       "<Figure size 640x480 with 1 Axes>"
      ]
     },
     "metadata": {},
     "output_type": "display_data"
    }
   ],
   "source": [
    "#plt.plot(p_m1s7[:,0], p_m1s7[:,1],'-o')\n",
    "plt.quiver(p_m1s7[:,0], p_m1s7[:,1], v_m1s7[:,0], v_m1s7[:,1])\n",
    "plt.plot(0,0,'o')\n",
    "plt.axis('equal')\n",
    "plt.grid();\n",
    "#for Numerical testing configuration, we should see a circle."
   ]
  },
  {
   "cell_type": "markdown",
   "id": "ece39c16",
   "metadata": {},
   "source": [
    "#### we need to transform these from M1S7 CS to M1B1 CS."
   ]
  },
  {
   "cell_type": "code",
   "execution_count": 82,
   "id": "a38a8e24",
   "metadata": {},
   "outputs": [],
   "source": [
    "#x_m1s1o = p_m1s7[0,:3]\n",
    "x_m1b1o = np.array([0, 8818.625, 602.002])\n",
    "R_m1b1 = np.array([[-1,0,0], [0, 0.9723, 0.2338], [0,0.2338, -0.9723]])\n",
    "def T_m1b1(x):\n",
    "    return R_m1b1@ (x-x_m1b1o)\n",
    "def T_m1b1_vec(x):\n",
    "    return T_m1b1(x) - T_m1b1(np.array([0,0,0]))"
   ]
  },
  {
   "cell_type": "code",
   "execution_count": 80,
   "id": "bc236160",
   "metadata": {},
   "outputs": [
    {
     "data": {
      "text/plain": [
       "array([-4330.127    , -4180.1471551, -9642.6679804])"
      ]
     },
     "execution_count": 80,
     "metadata": {},
     "output_type": "execute_result"
    }
   ],
   "source": [
    "#this is a test vector from DOC-1118\n",
    "x_tst1 = [4330.127, 2500, 9000] #x,y,z in M1S7\n",
    "#x,y,z in M1B1 should be [−4330.127, −4179.865, −9642.620]\n",
    "T_m1b1(x_tst1)"
   ]
  },
  {
   "cell_type": "markdown",
   "id": "c3e00c29",
   "metadata": {},
   "source": [
    "#### In M1B, we will start with a -x, -y, +Rz motion. That is my prediction. Let's check the math"
   ]
  },
  {
   "cell_type": "code",
   "execution_count": 91,
   "id": "4fe6491d",
   "metadata": {},
   "outputs": [
    {
     "name": "stdout",
     "output_type": "stream",
     "text": [
      "(18, 6)\n",
      "[-1.52018178e-01 -1.86168575e-17  0.00000000e+00]\n",
      "[ 1.52018178e-01 -8.71509716e+03 -1.47646798e+03]\n",
      "[0.15201818 0.         0.        ]\n"
     ]
    }
   ],
   "source": [
    "print(v_m1s7.shape)\n",
    "v_m1s7_tst = v_m1s7[9,:3] #for Numerical testing config, this is after 180 deg rotation\n",
    "print(v_m1s7_tst)\n",
    "print(T_m1b1(v_m1s7_tst))\n",
    "print(T_m1b1_vec(v_m1s7_tst)) #for Numerical tsting config, the vector has been reversed in x"
   ]
  },
  {
   "cell_type": "code",
   "execution_count": 92,
   "id": "6fab45d2",
   "metadata": {},
   "outputs": [
    {
     "name": "stdout",
     "output_type": "stream",
     "text": [
      "(18, 6)\n",
      "[ 0.          0.         -0.01745329]\n",
      "[    0.         -8715.10123568 -1476.45101056]\n",
      "[ 0.         -0.00408058  0.01696984]\n"
     ]
    }
   ],
   "source": [
    "print(v_m1s7.shape)\n",
    "R_m1s7_tst = v_m1s7[9,3:] #for Numerical testing config, this is after 180 deg rotation\n",
    "print(R_m1s7_tst)\n",
    "print(T_m1b1(R_m1s7_tst))\n",
    "print(T_m1b1_vec(R_m1s7_tst)) #for Numerical tsting config, the vector has been reversed in x"
   ]
  },
  {
   "cell_type": "code",
   "execution_count": 88,
   "id": "012d411f",
   "metadata": {},
   "outputs": [
    {
     "data": {
      "text/plain": [
       "array([0., 0., 0.])"
      ]
     },
     "execution_count": 88,
     "metadata": {},
     "output_type": "execute_result"
    }
   ],
   "source": [
    "v_m1s7[9,3:] "
   ]
  },
  {
   "cell_type": "code",
   "execution_count": null,
   "id": "c8add3e6",
   "metadata": {},
   "outputs": [],
   "source": [
    "make theta_B a variable\n",
    "if theta_B = 0, check Rz transformation.\n",
    "yes, in principle, even the order of Rx, Ry, Rz matters, but we are dealing with a simplified case where Rx = Ry = 0.\n",
    "the rotation vector should follow R' = T R?"
   ]
  }
 ],
 "metadata": {
  "kernelspec": {
   "display_name": "Python 3 (ipykernel)",
   "language": "python",
   "name": "python3"
  },
  "language_info": {
   "codemirror_mode": {
    "name": "ipython",
    "version": 3
   },
   "file_extension": ".py",
   "mimetype": "text/x-python",
   "name": "python",
   "nbconvert_exporter": "python",
   "pygments_lexer": "ipython3",
   "version": "3.11.5"
  }
 },
 "nbformat": 4,
 "nbformat_minor": 5
}
