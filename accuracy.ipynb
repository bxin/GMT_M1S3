{
 "cells": [
  {
   "cell_type": "code",
   "execution_count": 1,
   "id": "54cb7980",
   "metadata": {},
   "outputs": [
    {
     "name": "stdout",
     "output_type": "stream",
     "text": [
      "Intel MKL WARNING: Support of Intel(R) Streaming SIMD Extensions 4.2 (Intel(R) SSE4.2) enabled only processors has been deprecated. Intel oneAPI Math Kernel Library 2025.0 will require Intel(R) Advanced Vector Extensions (Intel(R) AVX) instructions.\n",
      "Intel MKL WARNING: Support of Intel(R) Streaming SIMD Extensions 4.2 (Intel(R) SSE4.2) enabled only processors has been deprecated. Intel oneAPI Math Kernel Library 2025.0 will require Intel(R) Advanced Vector Extensions (Intel(R) AVX) instructions.\n"
     ]
    }
   ],
   "source": [
    "import numpy as np"
   ]
  },
  {
   "cell_type": "code",
   "execution_count": 2,
   "id": "b8ddf379",
   "metadata": {},
   "outputs": [],
   "source": [
    "absolute_accuracy_zn = np.array([0, 0, 0, 559, 130,\n",
    "                       165, 32, 17, 16, 14,\n",
    "                       8, 6, 5, 2, 2])"
   ]
  },
  {
   "cell_type": "markdown",
   "id": "6b7c12a5",
   "metadata": {},
   "source": [
    "### Rigid body only"
   ]
  },
  {
   "cell_type": "code",
   "execution_count": 17,
   "id": "2eb2f94a",
   "metadata": {},
   "outputs": [
    {
     "name": "stdout",
     "output_type": "stream",
     "text": [
      "64.53053540766572\n"
     ]
    }
   ],
   "source": [
    "low_order_uncorrected = np.sqrt(np.sum((absolute_accuracy_zn[:8]*0.1)**2) + np.sum((absolute_accuracy_zn[8:]*1.0)**2 ))\n",
    "print(low_order_uncorrected)"
   ]
  },
  {
   "cell_type": "code",
   "execution_count": 18,
   "id": "ef1d7845",
   "metadata": {},
   "outputs": [
    {
     "data": {
      "text/plain": [
       "88.68026838028852"
      ]
     },
     "execution_count": 18,
     "metadata": {},
     "output_type": "execute_result"
    }
   ],
   "source": [
    "np.sqrt(low_order_uncorrected**2+60**2+10**2)"
   ]
  },
  {
   "cell_type": "markdown",
   "id": "de8cd536",
   "metadata": {},
   "source": [
    "### add (uncalibrated) bending modes"
   ]
  },
  {
   "cell_type": "code",
   "execution_count": 19,
   "id": "6c9ea070",
   "metadata": {},
   "outputs": [
    {
     "name": "stdout",
     "output_type": "stream",
     "text": [
      "59.87520354871456\n"
     ]
    }
   ],
   "source": [
    "low_order_uncorrected = np.sqrt(np.sum((absolute_accuracy_zn[:8]*0.1)**2) + np.sum((absolute_accuracy_zn[8:]*0.1)**2 ))\n",
    "print(low_order_uncorrected)"
   ]
  },
  {
   "cell_type": "code",
   "execution_count": 20,
   "id": "5975a054",
   "metadata": {},
   "outputs": [
    {
     "data": {
      "text/plain": [
       "85.35244577632209"
      ]
     },
     "execution_count": 20,
     "metadata": {},
     "output_type": "execute_result"
    }
   ],
   "source": [
    "np.sqrt(low_order_uncorrected**2+60**2+10**2)"
   ]
  },
  {
   "cell_type": "code",
   "execution_count": null,
   "id": "e27dce46",
   "metadata": {},
   "outputs": [],
   "source": []
  }
 ],
 "metadata": {
  "kernelspec": {
   "display_name": "Python 3 (ipykernel)",
   "language": "python",
   "name": "python3"
  },
  "language_info": {
   "codemirror_mode": {
    "name": "ipython",
    "version": 3
   },
   "file_extension": ".py",
   "mimetype": "text/x-python",
   "name": "python",
   "nbconvert_exporter": "python",
   "pygments_lexer": "ipython3",
   "version": "3.11.5"
  }
 },
 "nbformat": 4,
 "nbformat_minor": 5
}
